{
 "cells": [
  {
   "cell_type": "code",
   "execution_count": null,
   "metadata": {},
   "outputs": [],
   "source": [
    "import matplotlib.pyplot as plt\n",
    "import numpy as np\n",
    "import pandas as pd\n",
    "import scipy.stats as stats"
   ]
  },
  {
   "cell_type": "code",
   "execution_count": null,
   "metadata": {},
   "outputs": [],
   "source": [
    "def load_csvs(folder):\n",
    "    data_path = f\"C:\\\\path\\\\to\\\\expts\\\\{folder}\"\n",
    "    focal_L1 = pd.read_csv(f\"{data_path}\\\\contrast_validation_focal_L1.csv\", index_col=0, header=[0, 1])\n",
    "    global_L1 = pd.read_csv(f\"{data_path}\\\\contrast_validation_global.csv\", index_col=0, header=[0, 1])\n",
    "\n",
    "    if folder != \"multi\":\n",
    "        focal_L1 = focal_L1[[c for c in focal_L1.columns if len(c[1].split('-')) < 3]]\n",
    "        global_L1 = global_L1[[c for c in global_L1.columns if len(c[1].split('-')) < 3]]\n",
    "\n",
    "    focal_L1.columns = pd.MultiIndex.from_tuples([(c[0], c[1]) for c in focal_L1.columns])\n",
    "    global_L1.columns = pd.MultiIndex.from_tuples([(c[0], c[1]) for c in global_L1.columns])\n",
    "\n",
    "    return focal_L1, global_L1"
   ]
  },
  {
   "cell_type": "code",
   "execution_count": null,
   "metadata": {},
   "outputs": [],
   "source": [
    "def merge_kidney_rois(df):\n",
    "    right_kidney = df[\"RK\"]\n",
    "    no_left_kidney = df[\"LK\"].isna().any(axis=1)\n",
    "    right_kidney.loc[~no_left_kidney] = (right_kidney.loc[~no_left_kidney] + df.loc[~no_left_kidney, \"LK\"]) / 2\n",
    "    right_kidney.columns = pd.MultiIndex.from_product([[\"KD\"], right_kidney.columns])\n",
    "    df = pd.concat([df, right_kidney], axis=1)\n",
    "    df.drop([\"RK\", \"LK\", \"VC\"], axis=1, inplace=True)\n",
    "    return df"
   ]
  },
  {
   "cell_type": "code",
   "execution_count": null,
   "metadata": {},
   "outputs": [],
   "source": [
    "ce_cols = [f\"ce_vq{2**i}\" for i in range(11)]\n",
    "jo_cols = [f\"jo_vq{2**i}\" for i in range(11)]\n",
    "\n",
    "def reorder_dfs(focal_df, global_df):\n",
    "    focal_df = focal_df.loc[:, pd.IndexSlice[:, [\"ce_vq0\"] + ce_cols + jo_cols]]\n",
    "    global_df = global_df.loc[:, pd.IndexSlice[\"L1\", [\"ce_vq0\"] + ce_cols + jo_cols]]\n",
    "    return focal_df, global_df"
   ]
  },
  {
   "cell_type": "code",
   "execution_count": null,
   "metadata": {},
   "outputs": [],
   "source": [
    "focal_deep, global_deep = load_csvs(\"deep\")\n",
    "focal_deep = merge_kidney_rois(focal_deep)\n",
    "focal_deep, global_deep = reorder_dfs(focal_deep, global_deep)\n",
    "\n",
    "focal_shallow, global_shallow = load_csvs(\"shallow\")\n",
    "focal_shallow = merge_kidney_rois(focal_shallow)\n",
    "focal_shallow, global_shallow = reorder_dfs(focal_shallow, global_shallow)\n",
    "\n",
    "focal_multi, global_multi = load_csvs(\"multi\")\n",
    "focal_multi = merge_kidney_rois(focal_multi)\n",
    "global_multi = global_multi.loc[:, pd.IndexSlice[\"L1\", :]]\n",
    "global_multi.rename({\"ce_vqda1\": \"ce_vq128-128-512-1024-64\", \"jo_vqda1\": \"jo_vq128-128-256-512-512\"}, axis=1, level=1, inplace=True)\n",
    "focal_multi.rename({\"ce_vqda1\": \"ce_vq128-128-512-1024-64\", \"jo_vqda1\": \"jo_vq128-128-256-512-512\"}, axis=1, level=1, inplace=True)"
   ]
  },
  {
   "cell_type": "code",
   "execution_count": null,
   "metadata": {},
   "outputs": [],
   "source": [
    "idx = global_deep.columns.get_level_values(1).unique()\n",
    "pd.concat([global_deep.median().unstack().T, focal_deep.median().unstack().T], axis=1).loc[idx]"
   ]
  },
  {
   "cell_type": "code",
   "execution_count": null,
   "metadata": {},
   "outputs": [],
   "source": [
    "idx = global_shallow.columns.get_level_values(1).unique()\n",
    "pd.concat([global_shallow.median().unstack().T, focal_shallow.median().unstack().T], axis=1).loc[idx]"
   ]
  },
  {
   "cell_type": "code",
   "execution_count": null,
   "metadata": {},
   "outputs": [],
   "source": [
    "pd.concat([global_multi.median().unstack().T, focal_multi.median().unstack().T], axis=1)#.loc[idx]"
   ]
  },
  {
   "cell_type": "code",
   "execution_count": null,
   "metadata": {},
   "outputs": [],
   "source": [
    "def plot_global(df):\n",
    "    df_ce_cols = [c for c in df[\"L1\"].columns if \"ce\" in c and c != \"ce_vq0\"]\n",
    "    df_jo_cols = [c for c in df[\"L1\"].columns if \"jo\" in c]\n",
    "    plt.scatter(np.arange(df.shape[1]), df.median())\n",
    "    plt.hlines(y=np.median(df[\"L1\"][df_ce_cols].values), xmin=1, xmax=len(df_ce_cols))\n",
    "    plt.hlines(y=np.median(df[\"L1\"][df_jo_cols].values), xmin=len(df_ce_cols) + 1, xmax=len(df_ce_cols) + len(df_jo_cols))\n",
    "    plt.xticks(ticks=np.arange(df.shape[1]), labels=df[\"L1\"].columns, rotation=\"vertical\")\n"
   ]
  },
  {
   "cell_type": "code",
   "execution_count": null,
   "metadata": {},
   "outputs": [],
   "source": [
    "plt.figure(figsize=(18, 18))\n",
    "plt.subplot(3, 1, 1)\n",
    "plot_global(global_deep)\n",
    "plt.subplot(3, 1, 2)\n",
    "plot_global(global_shallow)\n",
    "plt.subplot(3, 1, 3)\n",
    "plot_global(global_multi)\n",
    "plt.tight_layout()\n",
    "plt.show()"
   ]
  },
  {
   "cell_type": "code",
   "execution_count": null,
   "metadata": {},
   "outputs": [],
   "source": [
    "def plot_focal(df):\n",
    "    regions = [\"AO\", \"KD\"]\n",
    "\n",
    "    for region in regions:\n",
    "        df_ce_cols = [(region, c) for c in df.columns.get_level_values(1).unique() if \"ce\" in c and c != \"ce_vq0\"]\n",
    "        df_jo_cols = [(region, c) for c in df.columns.get_level_values(1).unique() if \"jo\" in c]\n",
    "        plt.scatter(np.arange(df[region].shape[1]), df[region].median(), label=region)\n",
    "        plt.hlines(y=np.median(df[df_ce_cols][region].values), xmin=1, xmax=len(df_ce_cols))\n",
    "        plt.hlines(y=np.median(df[df_jo_cols][region].values), xmin=len(df_ce_cols) + 1, xmax=len(df_ce_cols) + len(df_jo_cols))\n",
    "\n",
    "    plt.xticks(ticks=np.arange(df[region].shape[1]), labels=df[region].columns, rotation=\"vertical\")\n",
    "    plt.legend()"
   ]
  },
  {
   "cell_type": "code",
   "execution_count": null,
   "metadata": {},
   "outputs": [],
   "source": [
    "plt.figure(figsize=(18, 22))\n",
    "plt.subplot(3, 1, 1)\n",
    "plot_focal(focal_deep)\n",
    "plt.subplot(3, 1, 2)\n",
    "plot_focal(focal_shallow)\n",
    "plt.subplot(3, 1, 3)\n",
    "plot_focal(focal_multi)\n",
    "plt.tight_layout()\n",
    "plt.show()"
   ]
  },
  {
   "cell_type": "code",
   "execution_count": null,
   "metadata": {},
   "outputs": [],
   "source": [
    "def compare_ce_jo_global(df):\n",
    "    df_ce_cols = [c for c in df[\"L1\"].columns if \"ce\" in c and c != \"ce_vq0\"]\n",
    "    df_jo_cols = [c for c in df[\"L1\"].columns if \"jo\" in c]\n",
    "\n",
    "    return pd.DataFrame(\n",
    "        np.stack([df[\"L1\"][df_ce_cols].median().values, df[\"L1\"][df_jo_cols].median().values], axis=1), index=[c[3:] for c in ce_cols],\n",
    "        columns=[\"ce\", \"jo\"],\n",
    "    )"
   ]
  },
  {
   "cell_type": "code",
   "execution_count": null,
   "metadata": {},
   "outputs": [],
   "source": [
    "compare_ce_jo_global(global_deep)"
   ]
  },
  {
   "cell_type": "code",
   "execution_count": null,
   "metadata": {},
   "outputs": [],
   "source": [
    "def compare_ce_jo_focal(df):\n",
    "\n",
    "    dfs = []\n",
    "    regions = [\"AO\", \"KD\"]\n",
    "\n",
    "    for region in regions:\n",
    "        df_ce_cols = [c for c in df[region].columns if \"ce\" in c and c != \"ce_vq0\"]\n",
    "        df_jo_cols = [c for c in df[region].columns if \"jo\" in c]\n",
    "        index=[c[3:] for c in ce_cols]\n",
    "        columns=pd.MultiIndex.from_product([[region], [\"ce\", \"jo\"]])\n",
    "        temp_df = pd.DataFrame(np.stack([df[region][df_ce_cols].median().values, df[region][df_jo_cols].median().values], axis=1), index=index, columns=columns)\n",
    "        dfs.append(temp_df)\n",
    "\n",
    "    return pd.concat(dfs, axis=1)"
   ]
  },
  {
   "cell_type": "code",
   "execution_count": null,
   "metadata": {},
   "outputs": [],
   "source": [
    "compare_ce_jo_focal(focal_shallow)"
   ]
  },
  {
   "cell_type": "code",
   "execution_count": null,
   "metadata": {},
   "outputs": [],
   "source": [
    "def plot_boxplots(global_df, focal_df):\n",
    "    plt.figure(figsize=(18, 18))\n",
    "    plt.subplot(3, 1, 1)\n",
    "    plt.boxplot(global_df[\"L1\"])\n",
    "    plt.xticks(ticks=np.arange(1, global_df[\"L1\"].shape[1] + 1), labels=global_df[\"L1\"].columns, rotation=\"vertical\")\n",
    "    plt.subplot(3, 1, 2)\n",
    "    plt.boxplot(focal_df[\"AO\"])\n",
    "    plt.xticks(ticks=np.arange(1, focal_df[\"AO\"].shape[1] + 1), labels=focal_df[\"AO\"].columns, rotation=\"vertical\")\n",
    "    plt.subplot(3, 1, 3)\n",
    "    plt.boxplot(focal_df[\"KD\"])\n",
    "    plt.xticks(ticks=np.arange(1, focal_df[\"KD\"].shape[1] + 1), labels=focal_df[\"KD\"].columns, rotation=\"vertical\")\n",
    "    plt.show()\n",
    "\n",
    "def calc_kruskal(global_df, focal_df):\n",
    "    print(f\"Global: {stats.kruskal(*global_df['L1'].values.T.tolist())}\")\n",
    "    print(f\"Focal AO: {stats.kruskal(*focal_df['AO'].values.T.tolist())}\")\n",
    "    print(f\"Focal KD: {stats.kruskal(*focal_df['KD'].values.T.tolist())}\")"
   ]
  },
  {
   "cell_type": "code",
   "execution_count": null,
   "metadata": {},
   "outputs": [],
   "source": [
    "g_df = global_multi\n",
    "f_df = focal_multi\n",
    "df_ce_cols = [c for c in g_df[\"L1\"].columns if \"ce\" in c and c != \"ce_vq0\" and \"da\" not in c]\n",
    "df_jo_cols = [c for c in g_df[\"L1\"].columns if \"jo\" in c and \"da\" not in c]\n",
    "\n",
    "plot_boxplots(g_df.loc[:, pd.IndexSlice[:, df_jo_cols]], f_df.loc[:, pd.IndexSlice[:, df_jo_cols]])\n",
    "calc_kruskal(g_df.loc[:, pd.IndexSlice[:, df_jo_cols]], f_df.loc[:, pd.IndexSlice[:, df_jo_cols]])"
   ]
  },
  {
   "cell_type": "code",
   "execution_count": null,
   "metadata": {},
   "outputs": [],
   "source": [
    "q = 0.5\n",
    "pd.concat({\"L1\": global_multi[\"L1\"].quantile(q), \"AO\": focal_multi[\"AO\"].quantile(q), \"KD\": focal_multi[\"KD\"].quantile(q)}, axis=1)#.loc[jo_cols].rank()"
   ]
  },
  {
   "cell_type": "code",
   "execution_count": null,
   "metadata": {},
   "outputs": [],
   "source": [
    "focal_multi[\"AO\"][df_jo_cols].median()"
   ]
  },
  {
   "cell_type": "code",
   "execution_count": null,
   "metadata": {},
   "outputs": [],
   "source": [
    "focal_L1_shallow = focal_L1[(\"AO\", \"ce_vq0-2000\")]\n",
    "global_L1_shallow = global_L1[\"ce_vq0-2000\"]\n",
    "focal_L1_shallow.name = \"shallow\"\n",
    "global_L1_shallow.name = \"shallow\"\n",
    "\n",
    "data_path = \"C:\\\\Users\\\\roybo\\\\OneDrive - University College London\\\\PhD\\\\PhD_Prog\\\\017_VQ_sCE\\\\Phase3\\\\deep\"\n",
    "focal_L1_deep = pd.read_csv(f\"{data_path}\\\\contrast_validation_focal_L1.csv\", index_col=0, header=[0, 1])[(\"AO\", \"ce_vq0-2000\")]\n",
    "global_L1_deep = pd.read_csv(f\"{data_path}\\\\contrast_validation_global.csv\", index_col=0, header=[0, 1])[(\"L1\", \"ce_vq0-2000\")]\n",
    "focal_L1_deep.name = \"deep\"\n",
    "global_L1_deep.name = \"deep\"\n",
    "\n",
    "data_path = \"C:\\\\Users\\\\roybo\\\\OneDrive - University College London\\\\PhD\\\\PhD_Prog\\\\017_VQ_sCE\\\\Phase3\\\\multi\"\n",
    "focal_L1_multi = pd.read_csv(f\"{data_path}\\\\contrast_validation_focal_L1.csv\", index_col=0, header=[0, 1])[(\"AO\", \"ce_vq0-2000\")]\n",
    "global_L1_multi = pd.read_csv(f\"{data_path}\\\\contrast_validation_global.csv\", index_col=0, header=[0, 1])[(\"L1\", \"ce_vq0-2000\")]\n",
    "focal_L1_multi.name = \"multi\"\n",
    "global_L1_multi.name = \"multi\"\n",
    "\n",
    "focal_L1_vq0 = pd.concat([focal_L1_deep, focal_L1_shallow, focal_L1_multi], axis=1)\n",
    "global_L1_vq0 = pd.concat([global_L1_deep, global_L1_shallow, global_L1_multi], axis=1)"
   ]
  },
  {
   "cell_type": "code",
   "execution_count": null,
   "metadata": {},
   "outputs": [],
   "source": [
    "data_path = \"C:\\\\Users\\\\roybo\\\\OneDrive - University College London\\\\PhD\\\\PhD_Prog\\\\017_VQ_sCE\\\\Phase3\\\\multi\"\n",
    "focal_L1_multi = pd.read_csv(f\"{data_path}\\\\contrast_validation_focal_L1.csv\", index_col=0, header=[0, 1])\n",
    "global_L1_multi = pd.read_csv(f\"{data_path}\\\\contrast_validation_global.csv\", index_col=0, header=[0, 1])"
   ]
  },
  {
   "cell_type": "code",
   "execution_count": null,
   "metadata": {},
   "outputs": [],
   "source": [
    "global_L1_multi[\"L1\"].median()"
   ]
  },
  {
   "cell_type": "code",
   "execution_count": null,
   "metadata": {},
   "outputs": [],
   "source": [
    "focal_L1_multi[\"AO\"].median()"
   ]
  },
  {
   "cell_type": "code",
   "execution_count": null,
   "metadata": {},
   "outputs": [],
   "source": [
    "stats.kruskal(*global_L1_multi[\"L1\"].values.T.tolist())"
   ]
  },
  {
   "cell_type": "code",
   "execution_count": null,
   "metadata": {},
   "outputs": [],
   "source": [
    "stats.kruskal(*focal_L1_multi[\"AO\"].values.T.tolist())"
   ]
  }
 ],
 "metadata": {
  "kernelspec": {
   "display_name": "contrast",
   "language": "python",
   "name": "python3"
  },
  "language_info": {
   "codemirror_mode": {
    "name": "ipython",
    "version": 3
   },
   "file_extension": ".py",
   "mimetype": "text/x-python",
   "name": "python",
   "nbconvert_exporter": "python",
   "pygments_lexer": "ipython3",
   "version": "3.10.6"
  },
  "orig_nbformat": 4
 },
 "nbformat": 4,
 "nbformat_minor": 2
}
