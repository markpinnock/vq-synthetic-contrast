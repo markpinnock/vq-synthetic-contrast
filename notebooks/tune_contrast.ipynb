{
 "cells": [
  {
   "cell_type": "code",
   "execution_count": null,
   "metadata": {},
   "outputs": [],
   "source": [
    "import matplotlib.pyplot as plt\n",
    "import numpy as np\n",
    "import pandas as pd\n",
    "import scipy.stats as stats"
   ]
  },
  {
   "cell_type": "code",
   "execution_count": null,
   "metadata": {},
   "outputs": [],
   "source": [
    "def load_csvs(folder):\n",
    "    data_path = f\"C:\\\\path\\\\to\\\\expts\\\\{folder}\"\n",
    "    focal_L1 = pd.read_csv(f\"{data_path}\\\\contrast_validation_focal_L1.csv\", index_col=0, header=[0, 1])\n",
    "    global_L1 = pd.read_csv(f\"{data_path}\\\\contrast_validation_global.csv\", index_col=0, header=[0, 1])\n",
    "\n",
    "    if folder != \"multi\":\n",
    "        focal_L1 = focal_L1[[c for c in focal_L1.columns if len(c[1].split('-')) < 3]]\n",
    "        global_L1 = global_L1[[c for c in global_L1.columns if len(c[1].split('-')) < 3]]\n",
    "\n",
    "    focal_L1.columns = pd.MultiIndex.from_tuples([(c[0], c[1]) for c in focal_L1.columns])\n",
    "    global_L1.columns = pd.MultiIndex.from_tuples([(c[0], c[1]) for c in global_L1.columns])\n",
    "\n",
    "    return focal_L1, global_L1"
   ]
  },
  {
   "cell_type": "code",
   "execution_count": null,
   "metadata": {},
   "outputs": [],
   "source": [
    "def merge_kidney_rois(df):\n",
    "    right_kidney = df[\"RK\"]\n",
    "    no_left_kidney = df[\"LK\"].isna().any(axis=1)\n",
    "    right_kidney.loc[~no_left_kidney] = (right_kidney.loc[~no_left_kidney] + df.loc[~no_left_kidney, \"LK\"]) / 2\n",
    "    right_kidney.columns = pd.MultiIndex.from_product([[\"KD\"], right_kidney.columns])\n",
    "    df = pd.concat([df, right_kidney], axis=1)\n",
    "    df.drop([\"RK\", \"LK\", \"VC\"], axis=1, inplace=True)\n",
    "    return df"
   ]
  },
  {
   "cell_type": "code",
   "execution_count": null,
   "metadata": {},
   "outputs": [],
   "source": [
    "ce_cols = [f\"ce_vq{2**i}\" for i in range(11)]\n",
    "jo_cols = [f\"jo_vq{2**i}\" for i in range(11)]\n",
    "\n",
    "def reorder_dfs(focal_df, global_df):\n",
    "    focal_df = focal_df.loc[:, pd.IndexSlice[:, [\"ce_vq0\"] + ce_cols + jo_cols]]\n",
    "    global_df = global_df.loc[:, pd.IndexSlice[\"L1\", [\"ce_vq0\"] + ce_cols + jo_cols]]\n",
    "    return focal_df, global_df"
   ]
  },
  {
   "cell_type": "code",
   "execution_count": null,
   "metadata": {},
   "outputs": [],
   "source": [
    "focal_deep, global_deep = load_csvs(\"deep\")\n",
    "focal_deep = merge_kidney_rois(focal_deep)\n",
    "focal_deep, global_deep = reorder_dfs(focal_deep, global_deep)\n",
    "\n",
    "focal_shallow, global_shallow = load_csvs(\"shallow\")\n",
    "focal_shallow = merge_kidney_rois(focal_shallow)\n",
    "focal_shallow, global_shallow = reorder_dfs(focal_shallow, global_shallow)\n",
    "\n",
    "focal_multi, global_multi = load_csvs(\"multi\")\n",
    "focal_multi = merge_kidney_rois(focal_multi)\n",
    "global_multi = global_multi.loc[:, pd.IndexSlice[\"L1\", :]]\n",
    "global_multi.rename({\"ce_vqda1\": \"ce_vq128-128-512-1024-64\", \"jo_vqda1\": \"jo_vq128-128-256-512-512\"}, axis=1, level=1, inplace=True)\n",
    "focal_multi.rename({\"ce_vqda1\": \"ce_vq128-128-512-1024-64\", \"jo_vqda1\": \"jo_vq128-128-256-512-512\"}, axis=1, level=1, inplace=True)"
   ]
  },
  {
   "cell_type": "code",
   "execution_count": null,
   "metadata": {},
   "outputs": [],
   "source": [
    "idx = global_deep.columns.get_level_values(1).unique()\n",
    "pd.concat([global_deep.median().unstack().T, focal_deep.median().unstack().T], axis=1).loc[idx]"
   ]
  },
  {
   "cell_type": "code",
   "execution_count": null,
   "metadata": {},
   "outputs": [],
   "source": [
    "idx = global_shallow.columns.get_level_values(1).unique()\n",
    "pd.concat([global_shallow.median().unstack().T, focal_shallow.median().unstack().T], axis=1).loc[idx]  # ce_vq8"
   ]
  },
  {
   "cell_type": "code",
   "execution_count": null,
   "metadata": {},
   "outputs": [],
   "source": [
    "pd.concat([global_multi.median().unstack().T, focal_multi.median().unstack().T], axis=1)#.loc[idx]"
   ]
  },
  {
   "cell_type": "code",
   "execution_count": null,
   "metadata": {},
   "outputs": [],
   "source": [
    "def plot_boxplots(global_df, focal_df):\n",
    "    plt.figure(figsize=(18, 18))\n",
    "    plt.subplot(3, 1, 1)\n",
    "    plt.boxplot(global_df[\"L1\"])\n",
    "    plt.xticks(ticks=np.arange(1, global_df[\"L1\"].shape[1] + 1), labels=global_df[\"L1\"].columns, rotation=\"vertical\")\n",
    "    plt.subplot(3, 1, 2)\n",
    "    plt.boxplot(focal_df[\"AO\"])\n",
    "    plt.xticks(ticks=np.arange(1, focal_df[\"AO\"].shape[1] + 1), labels=focal_df[\"AO\"].columns, rotation=\"vertical\")\n",
    "    plt.subplot(3, 1, 3)\n",
    "    plt.boxplot(focal_df[\"KD\"])\n",
    "    plt.xticks(ticks=np.arange(1, focal_df[\"KD\"].shape[1] + 1), labels=focal_df[\"KD\"].columns, rotation=\"vertical\")\n",
    "    plt.show()\n"
   ]
  },
  {
   "cell_type": "code",
   "execution_count": null,
   "metadata": {},
   "outputs": [],
   "source": [
    "def calc_kruskal(global_df, focal_df):\n",
    "    print(f\"Global: {stats.kruskal(*global_df['L1'].values.T.tolist())}\")\n",
    "    print(f\"Focal AO: {stats.kruskal(*focal_df['AO'].values.T.tolist())}\")\n",
    "    print(f\"Focal KD: {stats.kruskal(*focal_df['KD'].values.T.tolist())}\")"
   ]
  },
  {
   "cell_type": "code",
   "execution_count": null,
   "metadata": {},
   "outputs": [],
   "source": [
    "g_df = global_shallow\n",
    "f_df = focal_shallow\n",
    "df_ce_cols = [c for c in g_df[\"L1\"].columns if \"ce\" in c and c != \"ce_vq0\"]\n",
    "df_jo_cols = [c for c in g_df[\"L1\"].columns if \"jo\" in c]\n",
    "\n",
    "plot_boxplots(g_df.loc[:, pd.IndexSlice[:, df_ce_cols]], f_df.loc[:, pd.IndexSlice[:, df_ce_cols]])\n",
    "calc_kruskal(g_df.loc[:, pd.IndexSlice[:, df_ce_cols]], f_df.loc[:, pd.IndexSlice[:, df_ce_cols]])"
   ]
  }
 ],
 "metadata": {
  "kernelspec": {
   "display_name": "Python 3.10.13 ('contrast')",
   "language": "python",
   "name": "python3"
  },
  "language_info": {
   "codemirror_mode": {
    "name": "ipython",
    "version": 3
   },
   "file_extension": ".py",
   "mimetype": "text/x-python",
   "name": "python",
   "nbconvert_exporter": "python",
   "pygments_lexer": "ipython3",
   "version": "3.10.13"
  },
  "orig_nbformat": 4,
  "vscode": {
   "interpreter": {
    "hash": "43d1997fd4e4cc40c3d169dc514034a02133f502e7743f11710d9c890ab32c7d"
   }
  }
 },
 "nbformat": 4,
 "nbformat_minor": 2
}
