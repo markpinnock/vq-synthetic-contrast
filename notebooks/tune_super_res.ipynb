{
 "cells": [
  {
   "cell_type": "code",
   "execution_count": null,
   "metadata": {},
   "outputs": [],
   "source": [
    "import matplotlib.pyplot as plt\n",
    "import numpy as np\n",
    "import pandas as pd\n",
    "import scipy.stats as stats"
   ]
  },
  {
   "cell_type": "code",
   "execution_count": null,
   "metadata": {},
   "outputs": [],
   "source": [
    "def load_csvs(folder):\n",
    "    data_path = f\"C:\\\\path\\\\to\\\\expts\\\\{folder}\"\n",
    "    global_L1 = pd.read_csv(f\"{data_path}\\\\super_res_validation.csv\", index_col=0, header=[0, 1])\n",
    "\n",
    "    if folder != \"multi\":\n",
    "        global_L1 = global_L1[[c for c in global_L1.columns if len(c[1].split('-')) < 3]]\n",
    "\n",
    "    return global_L1"
   ]
  },
  {
   "cell_type": "code",
   "execution_count": null,
   "metadata": {},
   "outputs": [],
   "source": [
    "sr_cols = [f\"sr_vq{2**i}\" for i in range(11)]\n",
    "jo_cols = [f\"jo_vq{2**i}\" for i in range(11)]\n",
    "\n",
    "def reorder_dfs(global_df):\n",
    "    global_df = global_df.loc[:, pd.IndexSlice[:, [\"sr_vq0\"] + sr_cols + jo_cols]]\n",
    "    return global_df"
   ]
  },
  {
   "cell_type": "code",
   "execution_count": null,
   "metadata": {},
   "outputs": [],
   "source": [
    "deep = load_csvs(\"deep\")\n",
    "deep = reorder_dfs(deep)\n",
    "\n",
    "shallow = load_csvs(\"shallow\")\n",
    "shallow = reorder_dfs(shallow)\n",
    "\n",
    "multi = load_csvs(\"multi\")\n",
    "multi.rename({\"ce_vqda1\": \"ce_vq128-128-512-1024-64\", \"jo_vqda1\": \"jo_vq128-128-256-512-512\"}, axis=1, level=1, inplace=True)"
   ]
  },
  {
   "cell_type": "code",
   "execution_count": null,
   "metadata": {},
   "outputs": [],
   "source": [
    "idx = shallow.columns.get_level_values(1).unique()\n",
    "shallow.median().unstack().T.loc[idx]  # sr_vq64"
   ]
  },
  {
   "cell_type": "code",
   "execution_count": null,
   "metadata": {},
   "outputs": [],
   "source": [
    "def plot_boxplots(global_df):\n",
    "    plt.figure(figsize=(18, 8))\n",
    "    plt.subplot(2, 1, 1)\n",
    "    plt.boxplot(global_df[\"L1\"])\n",
    "    plt.xticks(ticks=np.arange(1, global_df[\"L1\"].shape[1] + 1), labels=global_df[\"L1\"].columns, rotation=\"vertical\")\n",
    "    plt.subplot(2, 1, 2)\n",
    "    plt.boxplot(global_df[\"focal_L1\"])\n",
    "    plt.xticks(ticks=np.arange(1, global_df[\"L1\"].shape[1] + 1), labels=global_df[\"L1\"].columns, rotation=\"vertical\")\n",
    "    plt.tight_layout()\n",
    "    plt.show()"
   ]
  },
  {
   "cell_type": "code",
   "execution_count": null,
   "metadata": {},
   "outputs": [],
   "source": [
    "g_df = shallow\n",
    "df_sr_cols = [c for c in g_df[\"L1\"].columns if \"sr\" in c and c != \"sr_vq0\"]\n",
    "df_jo_cols = [c for c in g_df[\"L1\"].columns if \"jo\" in c]\n",
    "\n",
    "plot_boxplots(g_df.loc[:, pd.IndexSlice[:, df_sr_cols]])\n",
    "print(f\"Global: {stats.kruskal(*g_df['L1'][df_sr_cols].values.T.tolist())}\")\n",
    "print(f\"Focal: {stats.kruskal(*g_df['focal_L1'][df_sr_cols].values.T.tolist())}\")"
   ]
  },
  {
   "cell_type": "code",
   "execution_count": null,
   "metadata": {},
   "outputs": [],
   "source": [
    "q = 0.5\n",
    "multi[\"focal_L1\"].quantile([0.05, 0.5, 0.95]).T#.rank()"
   ]
  }
 ],
 "metadata": {
  "kernelspec": {
   "display_name": "Python 3.10.13 ('contrast')",
   "language": "python",
   "name": "python3"
  },
  "language_info": {
   "codemirror_mode": {
    "name": "ipython",
    "version": 3
   },
   "file_extension": ".py",
   "mimetype": "text/x-python",
   "name": "python",
   "nbconvert_exporter": "python",
   "pygments_lexer": "ipython3",
   "version": "3.10.13"
  },
  "orig_nbformat": 4,
  "vscode": {
   "interpreter": {
    "hash": "43d1997fd4e4cc40c3d169dc514034a02133f502e7743f11710d9c890ab32c7d"
   }
  }
 },
 "nbformat": 4,
 "nbformat_minor": 2
}
