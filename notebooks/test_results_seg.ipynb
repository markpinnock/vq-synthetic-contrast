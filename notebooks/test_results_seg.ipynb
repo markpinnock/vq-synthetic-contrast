{
 "cells": [
  {
   "cell_type": "code",
   "execution_count": null,
   "metadata": {},
   "outputs": [],
   "source": [
    "import matplotlib.pyplot as plt\n",
    "import numpy as np\n",
    "import pandas as pd\n",
    "import scipy.stats as stats"
   ]
  },
  {
   "cell_type": "code",
   "execution_count": null,
   "metadata": {},
   "outputs": [],
   "source": [
    "def load_csvs(folder):\n",
    "    data_path = f\"C:\\\\path\\\\to\\\\data\\\\{folder}\"\n",
    "    df = pd.read_csv(f\"{data_path}\\\\joint_test_segmentations.csv\", index_col=0)\n",
    "\n",
    "    def _change_expt_name(expt):\n",
    "        expt = folder.replace(\"_nores\", \"\") + '_' +  expt\n",
    "        return expt\n",
    "\n",
    "    df.columns = [_change_expt_name(c) for c in df.columns]\n",
    "\n",
    "    return df"
   ]
  },
  {
   "cell_type": "code",
   "execution_count": null,
   "metadata": {},
   "outputs": [],
   "source": [
    "deep = load_csvs(\"deep\")\n",
    "shallow = load_csvs(\"shallow\")\n",
    "multi = load_csvs(\"multi\")\n",
    "res_df = pd.concat([deep, shallow, multi], axis=1)\n",
    "\n",
    "deep = load_csvs(\"deep_nores\")\n",
    "shallow = load_csvs(\"shallow_nores\")\n",
    "multi = load_csvs(\"multi_nores\")\n",
    "nores_df = pd.concat([deep, shallow, multi], axis=1)"
   ]
  },
  {
   "cell_type": "code",
   "execution_count": null,
   "metadata": {},
   "outputs": [],
   "source": [
    "# expts = [\"deep_ce_vq0\", \"shallow_ce_vq0\", \"multi_ce_vq0\"]\n",
    "# expts = [\"deep_ce_vq0\", \"deep_ce_vq1\", \"deep_jo_vq512\", \"deep_jo_vq64\"]\n",
    "# expts = [\"shallow_ce_vq0\", \"shallow_ce_vq512\", \"shallow_jo_vq256\", \"shallow_jo_vq8\"]\n",
    "# expts = [\"multi_ce_vq0\", \"multi_ce_vq128-128-256-512-512\", \"multi_jo_vq128-128-512-512-1024\", \"multi_jo_vq128-64-256-32-512\"]\n",
    "\n",
    "expts = [\"deep_ce_vq0\", \"deep_ce_vq2\", \"deep_jo_vq512\", \"deep_jo_vq128\"]\n",
    "# expts = [\"shallow_ce_vq0\", \"shallow_ce_vq8\", \"shallow_jo_vq4\", \"shallow_jo_vq1024\"]\n",
    "# expts = [\"multi_ce_vq0\", \"multi_ce_vq32-32-128-256-1024\", \"multi_jo_vq128-256-512-1024-256\", \"multi_jo_vq32-128-512-128-64\"]\n",
    "\n",
    "names = [\"Base\", \"VQ-CE\", \"JointVQ-CE\", \"JointVQ-SR\"]\n",
    "output = \"\"\n",
    "df = nores_df\n",
    "\n",
    "for name, expt in zip(names, expts):\n",
    "    output += f\"{name}\"\n",
    "\n",
    "    median = np.round(df.loc[:, expt].median(), 2)\n",
    "    output += f\" & {median} \"\n",
    "    quantiles = np.round(df.loc[:, expt].quantile([0.05, 0.95]), 2)\n",
    "    output += f\"{list(quantiles)}\"\n",
    "\n",
    "    output += \"\\\\\\ \\n\"\n",
    "\n",
    "print(output)\n",
    "\n",
    "print(nores_df.loc[:, \"deep_LQ\"].quantile([0.05, 0.5, 0.95]))"
   ]
  },
  {
   "cell_type": "code",
   "execution_count": null,
   "metadata": {},
   "outputs": [],
   "source": [
    "print(\"Baselines\")\n",
    "print(f\"Alpha = {0.05 / 3}\")\n",
    "expts = [\"deep_ce_vq0\", \"shallow_ce_vq0\", \"multi_ce_vq0\"]\n",
    "\n",
    "print(f\"Dice: {stats.kruskal(*res_df.loc[:, expts].values.T.tolist())}\")\n",
    "print(f\"Dice: {stats.kruskal(*nores_df.loc[:, expts].values.T.tolist())}\")"
   ]
  },
  {
   "cell_type": "code",
   "execution_count": null,
   "metadata": {},
   "outputs": [],
   "source": [
    "print(f\"Alpha = {0.05 / 6}\")\n",
    "# expts = [\"deep_ce_vq0\", \"deep_ce_vq1\", \"deep_jo_vq512\", \"deep_jo_vq64\"]\n",
    "# expts = [\"shallow_ce_vq0\", \"shallow_ce_vq512\", \"shallow_jo_vq256\", \"shallow_jo_vq8\"]\n",
    "expts = [\"multi_ce_vq0\", \"multi_ce_vq128-128-256-512-512\", \"multi_jo_vq128-128-512-512-1024\", \"multi_jo_vq128-64-256-32-512\"]\n",
    "\n",
    "print(f\"Dice: {stats.kruskal(*res_df.loc[:, expts].values.T.tolist())}\")\n",
    "\n",
    "# expts = [\"deep_ce_vq0\", \"deep_ce_vq2\", \"deep_jo_vq512\", \"deep_jo_vq128\"]\n",
    "# expts = [\"shallow_ce_vq0\", \"shallow_ce_vq8\", \"shallow_jo_vq4\", \"shallow_jo_vq1024\"]\n",
    "expts = [\"multi_ce_vq0\", \"multi_ce_vq32-32-128-256-1024\", \"multi_jo_vq128-256-512-1024-256\", \"multi_jo_vq32-128-512-128-64\"]\n",
    "\n",
    "print(f\"Dice: {stats.kruskal(*nores_df.loc[:, expts].values.T.tolist())}\")"
   ]
  },
  {
   "cell_type": "code",
   "execution_count": null,
   "metadata": {},
   "outputs": [],
   "source": [
    "expts_res = [\n",
    "    \"deep_ce_vq0\", \"deep_ce_vq1\", \"deep_jo_vq512\", \"deep_jo_vq64\",\n",
    "    \"shallow_ce_vq0\", \"shallow_ce_vq512\", \"shallow_jo_vq256\", \"shallow_jo_vq8\",\n",
    "    \"multi_ce_vq0\", \"multi_ce_vq128-128-256-512-512\", \"multi_jo_vq128-128-512-512-1024\", \"multi_jo_vq128-64-256-32-512\"\n",
    "]\n",
    "expts_nores = [\n",
    "    \"deep_ce_vq0\", \"deep_ce_vq2\", \"deep_jo_vq512\", \"deep_jo_vq128\",\n",
    "    \"shallow_ce_vq0\", \"shallow_ce_vq8\", \"shallow_jo_vq4\", \"shallow_jo_vq1024\",\n",
    "    \"multi_ce_vq0\", \"multi_ce_vq32-32-128-256-1024\", \"multi_jo_vq128-256-512-1024-256\", \"multi_jo_vq32-128-512-128-64\"\n",
    "]\n",
    "\n",
    "print(f\"Alpha = {0.05 / 12}\")\n",
    "print()\n",
    "\n",
    "for expt_res, expt_nores in zip(expts_res, expts_nores):\n",
    "    print(f\"Dice {expt_res} resid vs non-resid: {stats.mannwhitneyu(res_df.loc[:, expt_res], nores_df.loc[:, expt_nores])}\")"
   ]
  }
 ],
 "metadata": {
  "kernelspec": {
   "display_name": "Python 3.10.13 ('contrast')",
   "language": "python",
   "name": "python3"
  },
  "language_info": {
   "codemirror_mode": {
    "name": "ipython",
    "version": 3
   },
   "file_extension": ".py",
   "mimetype": "text/x-python",
   "name": "python",
   "nbconvert_exporter": "python",
   "pygments_lexer": "ipython3",
   "version": "3.10.13"
  },
  "orig_nbformat": 4,
  "vscode": {
   "interpreter": {
    "hash": "43d1997fd4e4cc40c3d169dc514034a02133f502e7743f11710d9c890ab32c7d"
   }
  }
 },
 "nbformat": 4,
 "nbformat_minor": 2
}
