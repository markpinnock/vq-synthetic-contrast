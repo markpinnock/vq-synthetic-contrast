{
 "cells": [
  {
   "cell_type": "code",
   "execution_count": null,
   "metadata": {},
   "outputs": [],
   "source": [
    "import matplotlib.pyplot as plt\n",
    "import numpy as np\n",
    "import pandas as pd\n",
    "import scipy.stats as stats"
   ]
  },
  {
   "cell_type": "code",
   "execution_count": null,
   "metadata": {},
   "outputs": [],
   "source": [
    "def load_csvs(folder):\n",
    "    data_path = f\"C:\\\\path\\\\to\\\\data\\\\{folder}\"\n",
    "    df = pd.read_csv(f\"{data_path}\\\\joint_test_segmentations.csv\", index_col=0)\n",
    "\n",
    "    def _change_expt_name(expt):\n",
    "        expt = folder.replace(\"_nores\", \"\") + '_' +  expt\n",
    "        return expt\n",
    "\n",
    "    df.columns = [_change_expt_name(c) for c in df.columns]\n",
    "\n",
    "    return df"
   ]
  },
  {
   "cell_type": "code",
   "execution_count": null,
   "metadata": {},
   "outputs": [],
   "source": [
    "deep = load_csvs(\"deep\")\n",
    "shallow = load_csvs(\"shallow\")\n",
    "multi = load_csvs(\"multi\")\n",
    "res_df = pd.concat([deep, shallow, multi], axis=1)\n",
    "\n",
    "deep = load_csvs(\"deep_nores\")\n",
    "shallow = load_csvs(\"shallow_nores\")\n",
    "multi = load_csvs(\"multi_nores\")\n",
    "nores_df = pd.concat([deep, shallow, multi], axis=1)"
   ]
  },
  {
   "cell_type": "code",
   "execution_count": null,
   "metadata": {},
   "outputs": [],
   "source": [
    "res_df"
   ]
  },
  {
   "cell_type": "code",
   "execution_count": null,
   "metadata": {},
   "outputs": [],
   "source": [
    "# expts = [\"deep_ce_vq0\", \"shallow_ce_vq0\", \"multi_ce_vq0\"]\n",
    "# expts = [\"deep_ce_vq0\", \"deep_ce_vq1\", \"deep_jo_vq512\", \"deep_jo_vq64\"]\n",
    "# expts = [\"shallow_ce_vq0\", \"shallow_ce_vq512\", \"shallow_jo_vq256\", \"shallow_jo_vq8\"]\n",
    "# expts = [\"multi_ce_vq0\", \"multi_ce_vq128-128-256-512-512\", \"multi_jo_vq128-128-512-512-1024\", \"multi_jo_vq128-64-256-32-512\"]\n",
    "\n",
    "# expts = [\"deep_ce_vq0\", \"deep_ce_vq2\", \"deep_jo_vq512\", \"deep_jo_vq128\"]\n",
    "# expts = [\"shallow_ce_vq0\", \"shallow_ce_vq8\", \"shallow_jo_vq4\", \"shallow_jo_vq1024\"]\n",
    "expts = [\"multi_ce_vq0\", \"multi_ce_vq32-32-128-256-1024\", \"multi_jo_vq128-256-512-1024-256\", \"multi_jo_vq32-128-512-128-64\"]\n",
    "\n",
    "names = [\"Base\", \"VQ-CE\", \"JointVQ-CE\", \"JointVQ-SR\"]\n",
    "output = \"\"\n",
    "df = nores_df\n",
    "\n",
    "for name, expt in zip(names, expts):\n",
    "    output += f\"{name}\"\n",
    "\n",
    "    median = np.round(df.loc[:, expt].median(), 2)\n",
    "    output += f\" & {median} \"\n",
    "    quantiles = np.round(df.loc[:, expt].quantile([0.05, 0.95]), 2)\n",
    "    output += f\"{list(quantiles)}\"\n",
    "\n",
    "    output += \"\\\\\\ \\n\"\n",
    "\n",
    "print(output)\n",
    "\n",
    "print(nores_df.loc[:, \"deep_LQ\"].quantile([0.05, 0.5, 0.95]))"
   ]
  },
  {
   "cell_type": "code",
   "execution_count": null,
   "metadata": {},
   "outputs": [],
   "source": [
    "nores_df"
   ]
  },
  {
   "cell_type": "code",
   "execution_count": null,
   "metadata": {},
   "outputs": [],
   "source": [
    "print(\"Baselines\")\n",
    "print(f\"Alpha = {0.05 / 3}\")\n",
    "expts = [\"deep_ce_vq0\", \"shallow_ce_vq0\", \"multi_ce_vq0\"]\n",
    "\n",
    "print(f\"Dice: {stats.kruskal(*res_df.loc[:, expts].values.T.tolist())}\")\n",
    "print(f\"Dice: {stats.kruskal(*nores_df.loc[:, expts].values.T.tolist())}\")\n",
    "\n",
    "# print(\"SSIM base non-resid\")\n",
    "# print(f\"SSIM deep vs shallow: {stats.mannwhitneyu(quality_nores_df.loc[:, pd.IndexSlice['SSIM', 'deep_sr_vq0']], quality_nores_df.loc[:, pd.IndexSlice['SSIM', 'shallow_sr_vq0']])}\")\n",
    "# print(f\"SSIM deep vs multi: {stats.mannwhitneyu(quality_nores_df.loc[:, pd.IndexSlice['SSIM', 'deep_sr_vq0']], quality_nores_df.loc[:, pd.IndexSlice['SSIM', 'multi_sr_vq0']])}\")\n",
    "# print(f\"SSIM shallow vs multi: {stats.mannwhitneyu(quality_nores_df.loc[:, pd.IndexSlice['SSIM', 'shallow_sr_vq0']], quality_nores_df.loc[:, pd.IndexSlice['SSIM', 'multi_sr_vq0']])}\")"
   ]
  },
  {
   "cell_type": "code",
   "execution_count": null,
   "metadata": {},
   "outputs": [],
   "source": [
    "print(f\"Alpha = {0.05 / 6}\")\n",
    "# expts = [\"deep_sr_vq0\", \"deep_sr_vq1\", \"deep_jo_vq64\", \"deep_jo_vq512\"]\n",
    "# expts = [\"shallow_sr_vq0\", \"shallow_sr_vq128\", \"shallow_jo_vq8\", \"shallow_jo_vq256\"]\n",
    "expts = [\"multi_sr_vq0\", \"multi_sr_vq128-128-256-512-512\", \"multi_jo_vq128-64-256-32-512\", \"multi_jo_vq128-128-512-512-1024\"]\n",
    "\n",
    "print(f\"MSE: {stats.kruskal(*quality_df.loc[:, pd.IndexSlice['MSE', expts]].values.T.tolist())}\")\n",
    "print(f\"pSNR: {stats.kruskal(*quality_df.loc[:, pd.IndexSlice['pSNR', expts]].values.T.tolist())}\")\n",
    "print(f\"SSIM: {stats.kruskal(*quality_df.loc[:, pd.IndexSlice['SSIM', expts]].values.T.tolist())}\")\n",
    "\n",
    "# expts = [\"deep_sr_vq0\", \"deep_sr_vq1\", \"deep_jo_vq128\", \"deep_jo_vq512\"]\n",
    "# expts = [\"shallow_sr_vq0\", \"shallow_sr_vq64\", \"shallow_jo_vq1024\", \"shallow_jo_vq4\"]\n",
    "expts = [\"multi_sr_vq0\", \"multi_sr_vq128-256-512-1024-1024\", \"multi_jo_vq32-128-512-128-64\", \"multi_jo_vq128-256-512-1024-256\"]\n",
    "\n",
    "print(f\"MSE: {stats.kruskal(*quality_nores_df.loc[:, pd.IndexSlice['MSE', expts]].values.T.tolist())}\")\n",
    "print(f\"pSNR: {stats.kruskal(*quality_nores_df.loc[:, pd.IndexSlice['pSNR', expts]].values.T.tolist())}\")\n",
    "print(f\"SSIM: {stats.kruskal(*quality_nores_df.loc[:, pd.IndexSlice['SSIM', expts]].values.T.tolist())}\")\n",
    "\n",
    "print(\"SSIM multi non-resid\")\n",
    "print(f\"SSIM base vs vq-sr: {stats.mannwhitneyu(quality_nores_df.loc[:, pd.IndexSlice['SSIM', 'multi_sr_vq0']], quality_nores_df.loc[:, pd.IndexSlice['SSIM', 'multi_sr_vq128-256-512-1024-1024']])}\")\n",
    "print(f\"SSIM base vs jvq-sr: {stats.mannwhitneyu(quality_nores_df.loc[:, pd.IndexSlice['SSIM', 'multi_sr_vq0']], quality_nores_df.loc[:, pd.IndexSlice['SSIM', 'multi_jo_vq32-128-512-128-64']])}\")\n",
    "print(f\"SSIM base vs jvq-ce: {stats.mannwhitneyu(quality_nores_df.loc[:, pd.IndexSlice['SSIM', 'multi_sr_vq0']], quality_nores_df.loc[:, pd.IndexSlice['SSIM', 'multi_jo_vq128-256-512-1024-256']])}\")\n",
    "print(f\"SSIM vq-sr vs jvq-sr: {stats.mannwhitneyu(quality_nores_df.loc[:, pd.IndexSlice['SSIM', 'multi_sr_vq128-256-512-1024-1024']], quality_nores_df.loc[:, pd.IndexSlice['SSIM', 'multi_jo_vq32-128-512-128-64']])}\")\n",
    "print(f\"SSIM vq-sr vs jvq-ce: {stats.mannwhitneyu(quality_nores_df.loc[:, pd.IndexSlice['SSIM', 'multi_sr_vq128-256-512-1024-1024']], quality_nores_df.loc[:, pd.IndexSlice['SSIM', 'multi_jo_vq128-256-512-1024-256']])}\")\n",
    "print(f\"SSIM jvq-sr vs jvq-ce: {stats.mannwhitneyu(quality_nores_df.loc[:, pd.IndexSlice['SSIM', 'multi_jo_vq32-128-512-128-64']], quality_nores_df.loc[:, pd.IndexSlice['SSIM', 'multi_jo_vq128-256-512-1024-256']])}\")"
   ]
  },
  {
   "cell_type": "code",
   "execution_count": null,
   "metadata": {},
   "outputs": [],
   "source": [
    "print(\"Baselines\")\n",
    "print(f\"Alpha = {0.05 / 3}\")\n",
    "expts = [\"deep_sr_vq0\", \"shallow_sr_vq0\", \"multi_sr_vq0\"]\n",
    "\n",
    "print(\"Residual\")\n",
    "print(f\"Texture: {stats.kruskal(*texture_df.loc[:, expts].values.T.tolist())}\")\n",
    "\n",
    "print(\"Non-residual\")\n",
    "print(f\"Texture: {stats.kruskal(*texture_nores_df.loc[:, expts].values.T.tolist())}\")\n",
    "\n",
    "print(f\"Texture base vs shallow: {stats.mannwhitneyu(texture_nores_df.loc[:, 'deep_sr_vq0'], texture_nores_df.loc[:, 'shallow_sr_vq0'])}\")\n",
    "print(f\"Texture base vs multi: {stats.mannwhitneyu(texture_nores_df.loc[:, 'deep_sr_vq0'], texture_nores_df.loc[:, 'multi_sr_vq0'])}\")\n",
    "print(f\"Texture shallow vs multi: {stats.mannwhitneyu(texture_nores_df.loc[:, 'shallow_sr_vq0'], texture_nores_df.loc[:, 'multi_sr_vq0'])}\")"
   ]
  },
  {
   "cell_type": "code",
   "execution_count": null,
   "metadata": {},
   "outputs": [],
   "source": [
    "print(f\"Alpha = {0.05 / 18}\")\n",
    "\n",
    "# expts = [\"deep_sr_vq0\", \"deep_sr_vq1\", \"deep_jo_vq64\", \"deep_jo_vq512\"]\n",
    "# expts = [\"shallow_sr_vq0\", \"shallow_sr_vq128\", \"shallow_jo_vq8\", \"shallow_jo_vq256\"]\n",
    "expts = [\"multi_sr_vq0\", \"multi_sr_vq128-128-256-512-512\", \"multi_jo_vq128-64-256-32-512\", \"multi_jo_vq128-128-512-512-1024\"]\n",
    "\n",
    "print(\"Residual\")\n",
    "print(f\"Texture: {stats.kruskal(*texture_df.loc[:, expts].values.T.tolist())}\")\n",
    "\n",
    "print(\"Multi residual\")\n",
    "print(f\"Texture base vs vq-sr: {stats.mannwhitneyu(texture_df.loc[:, 'multi_sr_vq0'], texture_df.loc[:, 'multi_sr_vq128-128-256-512-512'])}\")\n",
    "print(f\"Texture base vs jvq-sr: {stats.mannwhitneyu(texture_df.loc[:, 'multi_sr_vq0'], texture_df.loc[:, 'multi_jo_vq128-64-256-32-512'])}\")\n",
    "print(f\"Texture base vs jvq-ce: {stats.mannwhitneyu(texture_df.loc[:, 'multi_sr_vq0'], texture_df.loc[:, 'multi_jo_vq128-128-512-512-1024'])}\")\n",
    "print(f\"Texture vq-sr vs jvq-sr: {stats.mannwhitneyu(texture_df.loc[:, 'multi_sr_vq128-128-256-512-512'], texture_df.loc[:, 'multi_jo_vq128-64-256-32-512'])}\")\n",
    "print(f\"Texture vq-sr vs jvq-ce: {stats.mannwhitneyu(texture_df.loc[:, 'multi_sr_vq128-128-256-512-512'], texture_df.loc[:, 'multi_jo_vq128-128-512-512-1024'])}\")\n",
    "print(f\"Texture jvq-sr vs jvq-ce: {stats.mannwhitneyu(texture_df.loc[:, 'multi_jo_vq128-64-256-32-512'], texture_df.loc[:, 'multi_jo_vq128-128-512-512-1024'])}\")\n",
    "\n",
    "# expts = [\"deep_sr_vq0\", \"deep_sr_vq1\", \"deep_jo_vq128\", \"deep_jo_vq512\"]\n",
    "# expts = [\"shallow_sr_vq0\", \"shallow_sr_vq64\", \"shallow_jo_vq1024\", \"shallow_jo_vq4\"]\n",
    "expts = [\"multi_sr_vq0\", \"multi_sr_vq128-256-512-1024-1024\", \"multi_jo_vq32-128-512-128-64\", \"multi_jo_vq128-256-512-1024-256\"]\n",
    "\n",
    "print(\"Non-residual\")\n",
    "print(f\"Texture: {stats.kruskal(*texture_nores_df.loc[:, expts].values.T.tolist())}\")\n",
    "\n",
    "print(\"Shallow non-resid\")\n",
    "print(f\"Texture base vs vq-sr: {stats.mannwhitneyu(texture_nores_df.loc[:, 'shallow_sr_vq0'], texture_nores_df.loc[:, 'shallow_sr_vq64'])}\")\n",
    "print(f\"Texture base vs jvq-sr: {stats.mannwhitneyu(texture_nores_df.loc[:, 'shallow_sr_vq0'], texture_nores_df.loc[:, 'shallow_jo_vq1024'])}\")\n",
    "print(f\"Texture base vs jvq-ce: {stats.mannwhitneyu(texture_nores_df.loc[:, 'shallow_sr_vq0'], texture_nores_df.loc[:, 'shallow_jo_vq4'])}\")\n",
    "print(f\"Texture vq-sr vs jvq-sr: {stats.mannwhitneyu(texture_nores_df.loc[:, 'shallow_sr_vq64'], texture_nores_df.loc[:, 'shallow_jo_vq1024'])}\")\n",
    "print(f\"Texture vq-sr vs jvq-ce: {stats.mannwhitneyu(texture_nores_df.loc[:, 'shallow_sr_vq64'], texture_nores_df.loc[:, 'shallow_jo_vq4'])}\")\n",
    "print(f\"Texture jvq-sr vs jvq-ce: {stats.mannwhitneyu(texture_nores_df.loc[:, 'shallow_jo_vq1024'], texture_nores_df.loc[:, 'shallow_jo_vq4'])}\")\n",
    "\n",
    "print(\"Multi non-resid\")\n",
    "print(f\"Texture base vs vq-sr: {stats.mannwhitneyu(texture_nores_df.loc[:, 'multi_sr_vq0'], texture_nores_df.loc[:, 'multi_sr_vq128-256-512-1024-1024'])}\")\n",
    "print(f\"Texture base vs jvq-sr: {stats.mannwhitneyu(texture_nores_df.loc[:, 'multi_sr_vq0'], texture_nores_df.loc[:, 'multi_jo_vq32-128-512-128-64'])}\")\n",
    "print(f\"Texture base vs jvq-ce: {stats.mannwhitneyu(texture_nores_df.loc[:, 'multi_sr_vq0'], texture_nores_df.loc[:, 'multi_jo_vq128-256-512-1024-256'])}\")\n",
    "print(f\"Texture vq-sr vs jvq-sr: {stats.mannwhitneyu(texture_nores_df.loc[:, 'multi_sr_vq128-256-512-1024-1024'], texture_nores_df.loc[:, 'multi_jo_vq32-128-512-128-64'])}\")\n",
    "print(f\"Texture vq-sr vs jvq-ce: {stats.mannwhitneyu(texture_nores_df.loc[:, 'multi_sr_vq128-256-512-1024-1024'], texture_nores_df.loc[:, 'multi_jo_vq128-256-512-1024-256'])}\")\n",
    "print(f\"Texture jvq-sr vs jvq-ce: {stats.mannwhitneyu(texture_nores_df.loc[:, 'multi_jo_vq32-128-512-128-64'], texture_nores_df.loc[:, 'multi_jo_vq128-256-512-1024-256'])}\")"
   ]
  },
  {
   "cell_type": "code",
   "execution_count": null,
   "metadata": {},
   "outputs": [],
   "source": [
    "print(\"Baselines\")\n",
    "print(f\"Alpha = {0.05 / 3}\")\n",
    "expts = [\"deep_sr_vq0\", \"shallow_sr_vq0\", \"multi_sr_vq0\"]\n",
    "\n",
    "print()\n",
    "\n",
    "for expt in expts:\n",
    "    print(f\"MSE {expt} resid vs non-resid: {stats.mannwhitneyu(quality_df.loc[:, pd.IndexSlice['MSE', expt]], quality_nores_df.loc[:, pd.IndexSlice['MSE', expt]])}\")\n",
    "    print(f\"pSNR {expt} resid vs non-resid: {stats.mannwhitneyu(quality_df.loc[:, pd.IndexSlice['pSNR', expt]], quality_nores_df.loc[:, pd.IndexSlice['pSNR', expt]])}\")\n",
    "    print(f\"SSIM {expt} resid vs non-resid: {stats.mannwhitneyu(quality_df.loc[:, pd.IndexSlice['SSIM', expt]], quality_nores_df.loc[:, pd.IndexSlice['SSIM', expt]])}\")\n",
    "\n",
    "print()\n",
    "\n",
    "for expt in expts:\n",
    "    print(f\"Texture {expt} resid vs non-resid: {stats.mannwhitneyu(texture_df.loc[:, expt], texture_nores_df.loc[:, expt])}\")"
   ]
  }
 ],
 "metadata": {
  "kernelspec": {
   "display_name": "Python 3.10.13 ('contrast')",
   "language": "python",
   "name": "python3"
  },
  "language_info": {
   "codemirror_mode": {
    "name": "ipython",
    "version": 3
   },
   "file_extension": ".py",
   "mimetype": "text/x-python",
   "name": "python",
   "nbconvert_exporter": "python",
   "pygments_lexer": "ipython3",
   "version": "3.10.13"
  },
  "orig_nbformat": 4,
  "vscode": {
   "interpreter": {
    "hash": "43d1997fd4e4cc40c3d169dc514034a02133f502e7743f11710d9c890ab32c7d"
   }
  }
 },
 "nbformat": 4,
 "nbformat_minor": 2
}
