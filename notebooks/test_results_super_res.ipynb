{
 "cells": [
  {
   "cell_type": "code",
   "execution_count": null,
   "metadata": {},
   "outputs": [],
   "source": [
    "import matplotlib.pyplot as plt\n",
    "import numpy as np\n",
    "import pandas as pd\n",
    "import scipy.stats as stats"
   ]
  },
  {
   "cell_type": "code",
   "execution_count": null,
   "metadata": {},
   "outputs": [],
   "source": [
    "def load_csvs(folder):\n",
    "    data_path = f\"C:\\\\path\\\\to\\\\data\\\\{folder}\"\n",
    "    df = pd.read_csv(f\"{data_path}\\\\super_res_test.csv\", index_col=0, header=[0, 1])\n",
    "    textures = pd.read_csv(f\"{data_path}\\\\super_res_test_texture.csv\", index_col=0)\n",
    "\n",
    "    def _change_expt_name(expt):\n",
    "        expt = folder.replace(\"_nores\", \"\") + '_' +  expt\n",
    "        return expt\n",
    "\n",
    "    df.columns = pd.MultiIndex.from_tuples([(c[0], _change_expt_name(c[1])) for c in df.columns])\n",
    "    textures.columns = [_change_expt_name(c) for c in textures.columns]\n",
    "\n",
    "    return df, textures"
   ]
  },
  {
   "cell_type": "code",
   "execution_count": null,
   "metadata": {},
   "outputs": [],
   "source": [
    "quality_deep, texture_deep = load_csvs(\"deep\")\n",
    "quality_shallow, texture_shallow = load_csvs(\"shallow\")\n",
    "quality_multi, texture_multi = load_csvs(\"multi\")\n",
    "quality_df = pd.concat([quality_deep, quality_shallow, quality_multi], axis=1)\n",
    "texture_df = pd.concat([texture_deep, texture_shallow, texture_multi], axis=1)\n",
    "texture_df.drop(labels=[\"shallow_LQ\", \"shallow_HQ\", \"multi_LQ\", \"multi_HQ\"], axis=1, inplace=True)\n",
    "texture_df.rename({\"deep_LQ\": \"LQ\", \"deep_HQ\": \"HQ\"}, axis=1, inplace=True)"
   ]
  },
  {
   "cell_type": "code",
   "execution_count": null,
   "metadata": {},
   "outputs": [],
   "source": [
    "# expts = [\"deep_sr_vq0\", \"shallow_sr_vq0\", \"multi_sr_vq0\"]\n",
    "# expts = [\"deep_sr_vq0\", \"deep_sr_vq1\", \"deep_jo_vq64\", \"deep_jo_vq512\"]\n",
    "# expts = [\"shallow_sr_vq0\", \"shallow_sr_vq128\", \"shallow_jo_vq8\", \"shallow_jo_vq256\"]\n",
    "expts = [\"multi_sr_vq0\", \"multi_sr_vq128-128-256-512-512\", \"multi_jo_vq128-64-256-32-512\", \"multi_jo_vq128-128-512-512-1024\"]\n",
    "\n",
    "# quality_df.loc[:, pd.IndexSlice[\"MSE\", expts]].quantile([0.05, 0.5, 0.95])\n",
    "texture_df.loc[:, [\"LQ\", \"HQ\"] + expts].quantile([0.05, 0.5, 0.95])"
   ]
  },
  {
   "cell_type": "code",
   "execution_count": null,
   "metadata": {},
   "outputs": [],
   "source": [
    "plt.figure(figsize=(18, 18))\n",
    "plt.subplot(3, 1, 1)\n",
    "plt.boxplot(quality_df[\"MSE\"])\n",
    "plt.xticks(ticks=np.arange(1, quality_df[\"MSE\"].shape[1] + 1), labels=quality_df[\"MSE\"].columns, rotation=\"vertical\")\n",
    "plt.subplot(3, 1, 2)\n",
    "plt.boxplot(quality_df[\"pSNR\"])\n",
    "plt.xticks(ticks=np.arange(1, quality_df[\"pSNR\"].shape[1] + 1), labels=quality_df[\"pSNR\"].columns, rotation=\"vertical\")\n",
    "plt.subplot(3, 1, 3)\n",
    "plt.boxplot(quality_df[\"SSIM\"])\n",
    "plt.xticks(ticks=np.arange(1, quality_df[\"SSIM\"].shape[1] + 1), labels=quality_df[\"SSIM\"].columns, rotation=\"vertical\")\n",
    "plt.tight_layout()\n",
    "plt.show()"
   ]
  },
  {
   "cell_type": "code",
   "execution_count": null,
   "metadata": {},
   "outputs": [],
   "source": [
    "print(f\"Alpha = {0.05 / 12}\")\n",
    "# expts = [\"deep_sr_vq0\", \"shallow_sr_vq0\", \"multi_sr_vq0\"]\n",
    "# expts = [\"deep_sr_vq0\", \"deep_sr_vq1\", \"deep_jo_vq64\", \"deep_jo_vq512\"]\n",
    "# expts = [\"shallow_sr_vq0\", \"shallow_sr_vq128\", \"shallow_jo_vq8\", \"shallow_jo_vq256\"]\n",
    "expts = [\"multi_sr_vq0\", \"multi_sr_vq128-128-256-512-512\", \"multi_jo_vq128-64-256-32-512\", \"multi_jo_vq128-128-512-512-1024\"]\n",
    "\n",
    "print(f\"MSE: {stats.kruskal(*quality_df.loc[:, pd.IndexSlice['MSE', expts]].values.T.tolist())}\")\n",
    "print(f\"pSNR: {stats.kruskal(*quality_df.loc[:, pd.IndexSlice['pSNR', expts]].values.T.tolist())}\")\n",
    "print(f\"SSIM: {stats.kruskal(*quality_df.loc[:, pd.IndexSlice['SSIM', expts]].values.T.tolist())}\")\n",
    "\n",
    "print(\"MSE\")\n",
    "print(f\"MSE base vs vq-sr: {stats.mannwhitneyu(quality_df.loc[:, pd.IndexSlice['MSE', 'multi_sr_vq0']], quality_df.loc[:, pd.IndexSlice['MSE', 'multi_sr_vq128-128-256-512-512']])}\")\n",
    "print(f\"MSE base vs jvq-sr: {stats.mannwhitneyu(quality_df.loc[:, pd.IndexSlice['MSE', 'multi_sr_vq0']], quality_df.loc[:, pd.IndexSlice['MSE', 'multi_jo_vq128-64-256-32-512']])}\")\n",
    "print(f\"MSE base vs jvq-ce: {stats.mannwhitneyu(quality_df.loc[:, pd.IndexSlice['MSE', 'multi_sr_vq0']], quality_df.loc[:, pd.IndexSlice['MSE', 'multi_jo_vq128-128-512-512-1024']])}\")\n",
    "print(f\"MSE vq-sr vs jvq-sr: {stats.mannwhitneyu(quality_df.loc[:, pd.IndexSlice['MSE', 'multi_sr_vq128-128-256-512-512']], quality_df.loc[:, pd.IndexSlice['MSE', 'multi_jo_vq128-64-256-32-512']])}\")\n",
    "print(f\"MSE vq-sr vs jvq-ce: {stats.mannwhitneyu(quality_df.loc[:, pd.IndexSlice['MSE', 'multi_sr_vq128-128-256-512-512']], quality_df.loc[:, pd.IndexSlice['MSE', 'multi_jo_vq128-128-512-512-1024']])}\")\n",
    "print(f\"MSE jvq-sr vs jvq-ce: {stats.mannwhitneyu(quality_df.loc[:, pd.IndexSlice['MSE', 'multi_jo_vq128-64-256-32-512']], quality_df.loc[:, pd.IndexSlice['MSE', 'multi_jo_vq128-128-512-512-1024']])}\")\n",
    "\n",
    "print(\"pSNR\")\n",
    "print(f\"pSNR base vs vq-sr: {stats.mannwhitneyu(quality_df.loc[:, pd.IndexSlice['pSNR', 'multi_sr_vq0']], quality_df.loc[:, pd.IndexSlice['pSNR', 'multi_sr_vq128-128-256-512-512']])}\")\n",
    "print(f\"pSNR base vs jvq-sr: {stats.mannwhitneyu(quality_df.loc[:, pd.IndexSlice['pSNR', 'multi_sr_vq0']], quality_df.loc[:, pd.IndexSlice['pSNR', 'multi_jo_vq128-64-256-32-512']])}\")\n",
    "print(f\"pSNR base vs jvq-ce: {stats.mannwhitneyu(quality_df.loc[:, pd.IndexSlice['pSNR', 'multi_sr_vq0']], quality_df.loc[:, pd.IndexSlice['pSNR', 'multi_jo_vq128-128-512-512-1024']])}\")\n",
    "print(f\"pSNR vq-sr vs jvq-sr: {stats.mannwhitneyu(quality_df.loc[:, pd.IndexSlice['pSNR', 'multi_sr_vq128-128-256-512-512']], quality_df.loc[:, pd.IndexSlice['pSNR', 'multi_jo_vq128-64-256-32-512']])}\")\n",
    "print(f\"pSNR vq-sr vs jvq-ce: {stats.mannwhitneyu(quality_df.loc[:, pd.IndexSlice['pSNR', 'multi_sr_vq128-128-256-512-512']], quality_df.loc[:, pd.IndexSlice['pSNR', 'multi_jo_vq128-128-512-512-1024']])}\")\n",
    "print(f\"pSNR jvq-sr vs jvq-ce: {stats.mannwhitneyu(quality_df.loc[:, pd.IndexSlice['pSNR', 'multi_jo_vq128-64-256-32-512']], quality_df.loc[:, pd.IndexSlice['pSNR', 'multi_jo_vq128-128-512-512-1024']])}\")"
   ]
  },
  {
   "cell_type": "code",
   "execution_count": null,
   "metadata": {},
   "outputs": [],
   "source": [
    "print(f\"Alpha = {0.05 / 6}\")\n",
    "\n",
    "# expts = [\"deep_sr_vq0\", \"shallow_sr_vq0\", \"multi_sr_vq0\"]\n",
    "# expts = [\"deep_sr_vq0\", \"deep_sr_vq1\", \"deep_jo_vq64\", \"deep_jo_vq512\"]\n",
    "# expts = [\"shallow_sr_vq0\", \"shallow_sr_vq128\", \"shallow_jo_vq8\", \"shallow_jo_vq256\"]\n",
    "expts = [\"multi_sr_vq0\", \"multi_sr_vq128-128-256-512-512\", \"multi_jo_vq128-64-256-32-512\", \"multi_jo_vq128-128-512-512-1024\"]\n",
    "\n",
    "print(f\"Texture: {stats.kruskal(*texture_df.loc[:, expts].values.T.tolist())}\")\n",
    "print(f\"Texture base vs vq-sr: {stats.mannwhitneyu(texture_df.loc[:, 'multi_sr_vq0'], texture_df.loc[:, 'multi_sr_vq128-128-256-512-512'])}\")\n",
    "print(f\"Texture base vs jvq-sr: {stats.mannwhitneyu(texture_df.loc[:, 'multi_sr_vq0'], texture_df.loc[:, 'multi_jo_vq128-64-256-32-512'])}\")\n",
    "print(f\"Texture base vs jvq-ce: {stats.mannwhitneyu(texture_df.loc[:, 'multi_sr_vq0'], texture_df.loc[:, 'multi_jo_vq128-128-512-512-1024'])}\")\n",
    "print(f\"Texture vq-sr vs jvq-sr: {stats.mannwhitneyu(texture_df.loc[:, 'multi_sr_vq128-128-256-512-512'], texture_df.loc[:, 'multi_jo_vq128-64-256-32-512'])}\")\n",
    "print(f\"Texture vq-sr vs jvq-ce: {stats.mannwhitneyu(texture_df.loc[:, 'multi_sr_vq128-128-256-512-512'], texture_df.loc[:, 'multi_jo_vq128-128-512-512-1024'])}\")\n",
    "print(f\"Texture jvq-sr vs jvq-ce: {stats.mannwhitneyu(texture_df.loc[:, 'multi_jo_vq128-64-256-32-512'], texture_df.loc[:, 'multi_jo_vq128-128-512-512-1024'])}\")"
   ]
  }
 ],
 "metadata": {
  "kernelspec": {
   "display_name": "contrast",
   "language": "python",
   "name": "python3"
  },
  "language_info": {
   "codemirror_mode": {
    "name": "ipython",
    "version": 3
   },
   "file_extension": ".py",
   "mimetype": "text/x-python",
   "name": "python",
   "nbconvert_exporter": "python",
   "pygments_lexer": "ipython3",
   "version": "3.10.6"
  },
  "orig_nbformat": 4
 },
 "nbformat": 4,
 "nbformat_minor": 2
}
