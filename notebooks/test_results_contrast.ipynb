{
 "cells": [
  {
   "cell_type": "code",
   "execution_count": 1,
   "metadata": {},
   "outputs": [],
   "source": [
    "import matplotlib.pyplot as plt\n",
    "import numpy as np\n",
    "import pandas as pd\n",
    "import scipy.stats as stats"
   ]
  },
  {
   "cell_type": "code",
   "execution_count": 2,
   "metadata": {},
   "outputs": [],
   "source": [
    "def load_csvs(folder):\n",
    "    data_path = f\"C:\\\\Users\\\\roybo\\\\OneDrive - University College London\\\\PhD\\\\PhD_Prog\\\\017_VQ_sCE\\\\Phase3\\\\{folder}\"\n",
    "    focal_L1 = pd.read_csv(f\"{data_path}\\\\contrast_test_focal_L1.csv\", index_col=0, header=[0, 1])\n",
    "    global_L1 = pd.read_csv(f\"{data_path}\\\\contrast_test_global.csv\", index_col=0, header=[0, 1])\n",
    "    textures = pd.read_csv(f\"{data_path}\\\\contrast_test_texture.csv\", index_col=0)\n",
    "\n",
    "    def _change_expt_name(expt):\n",
    "        expt = folder.replace(\"_nores\", \"\") + '_' +  expt\n",
    "        return expt\n",
    "\n",
    "    focal_L1.columns = pd.MultiIndex.from_tuples([(c[0], _change_expt_name(c[1])) for c in focal_L1.columns])\n",
    "    global_L1.columns = pd.MultiIndex.from_tuples([(c[0], _change_expt_name(c[1])) for c in global_L1.columns])\n",
    "    textures.columns = [_change_expt_name(c) for c in textures.columns]\n",
    "\n",
    "    return focal_L1, global_L1, textures"
   ]
  },
  {
   "cell_type": "code",
   "execution_count": 3,
   "metadata": {},
   "outputs": [],
   "source": [
    "def merge_kidney_rois(df):\n",
    "    right_kidney = df[\"RK\"]\n",
    "    no_left_kidney = df[\"LK\"].isna().any(axis=1)\n",
    "    right_kidney.loc[~no_left_kidney] = (right_kidney.loc[~no_left_kidney] + df.loc[~no_left_kidney, \"LK\"]) / 2\n",
    "    right_kidney.columns = pd.MultiIndex.from_product([[\"KD\"], right_kidney.columns])\n",
    "    df = pd.concat([df, right_kidney], axis=1)\n",
    "    df.drop([\"RK\", \"LK\", \"VC\"], axis=1, inplace=True)\n",
    "    return df"
   ]
  },
  {
   "cell_type": "code",
   "execution_count": 46,
   "metadata": {},
   "outputs": [
    {
     "name": "stderr",
     "output_type": "stream",
     "text": [
      "C:\\Users\\roybo\\AppData\\Local\\Temp\\ipykernel_1096\\2063971159.py:4: SettingWithCopyWarning: \n",
      "A value is trying to be set on a copy of a slice from a DataFrame\n",
      "\n",
      "See the caveats in the documentation: https://pandas.pydata.org/pandas-docs/stable/user_guide/indexing.html#returning-a-view-versus-a-copy\n",
      "  right_kidney.loc[~no_left_kidney] = (right_kidney.loc[~no_left_kidney] + df.loc[~no_left_kidney, \"LK\"]) / 2\n",
      "C:\\Users\\roybo\\AppData\\Local\\Temp\\ipykernel_1096\\2063971159.py:7: PerformanceWarning: dropping on a non-lexsorted multi-index without a level parameter may impact performance.\n",
      "  df.drop([\"RK\", \"LK\", \"VC\"], axis=1, inplace=True)\n",
      "C:\\Users\\roybo\\AppData\\Local\\Temp\\ipykernel_1096\\2063971159.py:4: SettingWithCopyWarning: \n",
      "A value is trying to be set on a copy of a slice from a DataFrame\n",
      "\n",
      "See the caveats in the documentation: https://pandas.pydata.org/pandas-docs/stable/user_guide/indexing.html#returning-a-view-versus-a-copy\n",
      "  right_kidney.loc[~no_left_kidney] = (right_kidney.loc[~no_left_kidney] + df.loc[~no_left_kidney, \"LK\"]) / 2\n",
      "C:\\Users\\roybo\\AppData\\Local\\Temp\\ipykernel_1096\\2063971159.py:7: PerformanceWarning: dropping on a non-lexsorted multi-index without a level parameter may impact performance.\n",
      "  df.drop([\"RK\", \"LK\", \"VC\"], axis=1, inplace=True)\n",
      "C:\\Users\\roybo\\AppData\\Local\\Temp\\ipykernel_1096\\2063971159.py:4: SettingWithCopyWarning: \n",
      "A value is trying to be set on a copy of a slice from a DataFrame\n",
      "\n",
      "See the caveats in the documentation: https://pandas.pydata.org/pandas-docs/stable/user_guide/indexing.html#returning-a-view-versus-a-copy\n",
      "  right_kidney.loc[~no_left_kidney] = (right_kidney.loc[~no_left_kidney] + df.loc[~no_left_kidney, \"LK\"]) / 2\n",
      "C:\\Users\\roybo\\AppData\\Local\\Temp\\ipykernel_1096\\2063971159.py:7: PerformanceWarning: dropping on a non-lexsorted multi-index without a level parameter may impact performance.\n",
      "  df.drop([\"RK\", \"LK\", \"VC\"], axis=1, inplace=True)\n"
     ]
    }
   ],
   "source": [
    "focal_deep, global_deep, texture_deep = load_csvs(\"deep\")\n",
    "focal_deep = merge_kidney_rois(focal_deep)\n",
    "\n",
    "focal_shallow, global_shallow, texture_shallow = load_csvs(\"shallow\")\n",
    "focal_shallow = merge_kidney_rois(focal_shallow)\n",
    "\n",
    "focal_multi, global_multi, texture_multi = load_csvs(\"multi\")\n",
    "focal_multi = merge_kidney_rois(focal_multi)"
   ]
  },
  {
   "cell_type": "code",
   "execution_count": 25,
   "metadata": {},
   "outputs": [],
   "source": [
    "global_df = pd.concat([global_deep, global_shallow, global_multi], axis=1)\n",
    "focal_df = pd.concat([focal_deep, focal_shallow, focal_multi], axis=1)\n",
    "texture_df = pd.concat([texture_deep, texture_shallow, texture_multi], axis=1)\n",
    "texture_df.drop(labels=[\"shallow_NCE\", \"shallow_CE\", \"multi_NCE\", \"multi_CE\"], axis=1, inplace=True)\n",
    "texture_df.rename({\"deep_NCE\": \"NCE\", \"deep_CE\": \"CE\"}, axis=1, inplace=True)"
   ]
  },
  {
   "cell_type": "code",
   "execution_count": 37,
   "metadata": {},
   "outputs": [
    {
     "data": {
      "text/html": [
       "<div>\n",
       "<style scoped>\n",
       "    .dataframe tbody tr th:only-of-type {\n",
       "        vertical-align: middle;\n",
       "    }\n",
       "\n",
       "    .dataframe tbody tr th {\n",
       "        vertical-align: top;\n",
       "    }\n",
       "\n",
       "    .dataframe thead tr th {\n",
       "        text-align: left;\n",
       "    }\n",
       "</style>\n",
       "<table border=\"1\" class=\"dataframe\">\n",
       "  <thead>\n",
       "    <tr>\n",
       "      <th></th>\n",
       "      <th colspan=\"4\" halign=\"left\">MSE</th>\n",
       "      <th colspan=\"4\" halign=\"left\">pSNR</th>\n",
       "      <th colspan=\"4\" halign=\"left\">SSIM</th>\n",
       "    </tr>\n",
       "    <tr>\n",
       "      <th></th>\n",
       "      <th>deep_ce_vq0</th>\n",
       "      <th>deep_ce_vq1</th>\n",
       "      <th>deep_jo_vq512</th>\n",
       "      <th>deep_jo_vq64</th>\n",
       "      <th>deep_ce_vq0</th>\n",
       "      <th>deep_ce_vq1</th>\n",
       "      <th>deep_jo_vq512</th>\n",
       "      <th>deep_jo_vq64</th>\n",
       "      <th>deep_ce_vq0</th>\n",
       "      <th>deep_ce_vq1</th>\n",
       "      <th>deep_jo_vq512</th>\n",
       "      <th>deep_jo_vq64</th>\n",
       "    </tr>\n",
       "  </thead>\n",
       "  <tbody>\n",
       "    <tr>\n",
       "      <th>0.05</th>\n",
       "      <td>2604.169414</td>\n",
       "      <td>2240.17262</td>\n",
       "      <td>2358.254596</td>\n",
       "      <td>2263.947472</td>\n",
       "      <td>15.710839</td>\n",
       "      <td>15.697673</td>\n",
       "      <td>15.725340</td>\n",
       "      <td>15.729120</td>\n",
       "      <td>0.790924</td>\n",
       "      <td>0.793489</td>\n",
       "      <td>0.788741</td>\n",
       "      <td>0.795082</td>\n",
       "    </tr>\n",
       "    <tr>\n",
       "      <th>0.50</th>\n",
       "      <td>48792.749900</td>\n",
       "      <td>48853.26030</td>\n",
       "      <td>48966.646180</td>\n",
       "      <td>48866.704006</td>\n",
       "      <td>22.658872</td>\n",
       "      <td>22.653490</td>\n",
       "      <td>22.643421</td>\n",
       "      <td>22.652295</td>\n",
       "      <td>0.856741</td>\n",
       "      <td>0.870619</td>\n",
       "      <td>0.870138</td>\n",
       "      <td>0.868356</td>\n",
       "    </tr>\n",
       "    <tr>\n",
       "      <th>0.95</th>\n",
       "      <td>243798.090050</td>\n",
       "      <td>244577.92886</td>\n",
       "      <td>242992.453420</td>\n",
       "      <td>242752.413093</td>\n",
       "      <td>35.388915</td>\n",
       "      <td>36.049544</td>\n",
       "      <td>35.817912</td>\n",
       "      <td>36.001917</td>\n",
       "      <td>0.915767</td>\n",
       "      <td>0.924727</td>\n",
       "      <td>0.924055</td>\n",
       "      <td>0.924589</td>\n",
       "    </tr>\n",
       "  </tbody>\n",
       "</table>\n",
       "</div>"
      ],
      "text/plain": [
       "                MSE                                                    pSNR  \\\n",
       "        deep_ce_vq0   deep_ce_vq1  deep_jo_vq512   deep_jo_vq64 deep_ce_vq0   \n",
       "0.05    2604.169414    2240.17262    2358.254596    2263.947472   15.710839   \n",
       "0.50   48792.749900   48853.26030   48966.646180   48866.704006   22.658872   \n",
       "0.95  243798.090050  244577.92886  242992.453420  242752.413093   35.388915   \n",
       "\n",
       "                                                   SSIM              \\\n",
       "     deep_ce_vq1 deep_jo_vq512 deep_jo_vq64 deep_ce_vq0 deep_ce_vq1   \n",
       "0.05   15.697673     15.725340    15.729120    0.790924    0.793489   \n",
       "0.50   22.653490     22.643421    22.652295    0.856741    0.870619   \n",
       "0.95   36.049544     35.817912    36.001917    0.915767    0.924727   \n",
       "\n",
       "                                 \n",
       "     deep_jo_vq512 deep_jo_vq64  \n",
       "0.05      0.788741     0.795082  \n",
       "0.50      0.870138     0.868356  \n",
       "0.95      0.924055     0.924589  "
      ]
     },
     "execution_count": 37,
     "metadata": {},
     "output_type": "execute_result"
    }
   ],
   "source": [
    "# expts = [\"deep_ce_vq0\", \"shallow_ce_vq0\", \"multi_ce_vq0\"]\n",
    "expts = [\"deep_ce_vq0\", \"deep_ce_vq1\", \"deep_jo_vq512\", \"deep_jo_vq64\"]\n",
    "# expts = [\"shallow_ce_vq0\", \"shallow_ce_vq512\", \"shallow_jo_vq256\", \"shallow_jo_vq8\"]\n",
    "# expts = [\"multi_ce_vq0\", \"multi_ce_vq128-128-256-512-512\", \"multi_jo_vq128-128-512-512-1024\", \"multi_jo_vq128-64-256-32-512\"]\n",
    "\n",
    "global_df.loc[:, pd.IndexSlice[[\"MSE\", \"pSNR\", \"SSIM\"], expts]].quantile([0.05, 0.5, 0.95])\n",
    "# focal_df.loc[:, pd.IndexSlice[\"AO\", expts]].quantile([0.05, 0.5, 0.95])\n",
    "# texture_df.loc[:, [\"NCE\", \"CE\"] + expts].quantile([0.05, 0.5, 0.95])"
   ]
  },
  {
   "cell_type": "code",
   "execution_count": null,
   "metadata": {},
   "outputs": [],
   "source": [
    "plt.figure(figsize=(18, 18))\n",
    "plt.subplot(3, 1, 1)\n",
    "plt.boxplot(global_df[\"MSE\"])\n",
    "plt.xticks(ticks=np.arange(1, global_df[\"MSE\"].shape[1] + 1), labels=global_df[\"MSE\"].columns, rotation=\"vertical\")\n",
    "plt.subplot(3, 1, 2)\n",
    "plt.boxplot(global_df[\"pSNR\"])\n",
    "plt.xticks(ticks=np.arange(1, global_df[\"pSNR\"].shape[1] + 1), labels=global_df[\"pSNR\"].columns, rotation=\"vertical\")\n",
    "plt.subplot(3, 1, 3)\n",
    "plt.boxplot(global_df[\"SSIM\"])\n",
    "plt.xticks(ticks=np.arange(1, global_df[\"SSIM\"].shape[1] + 1), labels=global_df[\"SSIM\"].columns, rotation=\"vertical\")\n",
    "plt.tight_layout()\n",
    "plt.show()"
   ]
  },
  {
   "cell_type": "code",
   "execution_count": 33,
   "metadata": {},
   "outputs": [
    {
     "name": "stdout",
     "output_type": "stream",
     "text": [
      "Alpha = 0.008333333333333333\n",
      "MSE: KruskalResult(statistic=0.056283919751194844, pvalue=0.9965080021064306)\n",
      "pSNR: KruskalResult(statistic=0.056283919751194844, pvalue=0.9965080021064306)\n",
      "SSIM: KruskalResult(statistic=2.989267638270576, pvalue=0.39328285694273846)\n"
     ]
    }
   ],
   "source": [
    "print(f\"Alpha = {0.05 / 6}\")\n",
    "# expts = [\"deep_ce_vq0\", \"shallow_ce_vq0\", \"multi_ce_vq0\"]\n",
    "# expts = [\"deep_ce_vq0\", \"deep_ce_vq1\", \"deep_jo_vq512\", \"deep_jo_vq64\"]\n",
    "# expts = [\"shallow_ce_vq0\", \"shallow_ce_vq512\", \"shallow_jo_vq256\", \"shallow_jo_vq8\"]\n",
    "expts = [\"multi_ce_vq0\", \"multi_ce_vq128-128-256-512-512\", \"multi_jo_vq128-128-512-512-1024\", \"multi_jo_vq128-64-256-32-512\"]\n",
    "\n",
    "print(f\"MSE: {stats.kruskal(*global_df.loc[:, pd.IndexSlice['MSE', expts]].values.T.tolist())}\")\n",
    "print(f\"pSNR: {stats.kruskal(*global_df.loc[:, pd.IndexSlice['pSNR', expts]].values.T.tolist())}\")\n",
    "print(f\"SSIM: {stats.kruskal(*global_df.loc[:, pd.IndexSlice['SSIM', expts]].values.T.tolist())}\")"
   ]
  },
  {
   "cell_type": "code",
   "execution_count": null,
   "metadata": {},
   "outputs": [],
   "source": [
    "plt.figure(figsize=(18, 18))\n",
    "plt.subplot(3, 1, 1)\n",
    "plt.boxplot(global_df[\"L1\"])\n",
    "plt.xticks(ticks=np.arange(1, global_df[\"L1\"].shape[1] + 1), labels=global_df[\"L1\"].columns, rotation=\"vertical\")\n",
    "plt.subplot(3, 1, 2)\n",
    "plt.boxplot(focal_df[\"AO\"])\n",
    "plt.xticks(ticks=np.arange(1, focal_df[\"AO\"].shape[1] + 1), labels=focal_df[\"AO\"].columns, rotation=\"vertical\")\n",
    "plt.subplot(3, 1, 3)\n",
    "plt.boxplot(focal_df[\"KD\"])\n",
    "plt.xticks(ticks=np.arange(1, focal_df[\"KD\"].shape[1] + 1), labels=focal_df[\"KD\"].columns, rotation=\"vertical\")\n",
    "plt.tight_layout()\n",
    "plt.show()"
   ]
  },
  {
   "cell_type": "code",
   "execution_count": 41,
   "metadata": {},
   "outputs": [
    {
     "name": "stdout",
     "output_type": "stream",
     "text": [
      "Baselines\n",
      "Alpha = 0.016666666666666666\n",
      "Global L1: KruskalResult(statistic=0.1570618417499361, pvalue=0.9244734739609042)\n",
      "Focal AO: KruskalResult(statistic=7.180556305698076, pvalue=0.027590654936542107)\n",
      "Focal KD: KruskalResult(statistic=2.5607345395625316, pvalue=0.27793520450419906)\n",
      "Texture: KruskalResult(statistic=1.528490413178531, pvalue=0.46568529454597685)\n",
      "Focal AO deep vs shallow: MannwhitneyuResult(statistic=367.0, pvalue=0.025035377189050925)\n",
      "Focal AO deep vs multi: MannwhitneyuResult(statistic=366.0, pvalue=0.0264943971280104)\n",
      "Focal AO shallow vs multi: MannwhitneyuResult(statistic=220.0, pvalue=0.33372205862936943)\n"
     ]
    }
   ],
   "source": [
    "print(\"Baselines\")\n",
    "print(f\"Alpha = {0.05 / 3}\")\n",
    "expts = [\"deep_ce_vq0\", \"shallow_ce_vq0\", \"multi_ce_vq0\"]\n",
    "\n",
    "print(f\"Global L1: {stats.kruskal(*global_df.loc[:, pd.IndexSlice['L1', expts]].values.T.tolist())}\")\n",
    "print(f\"Focal AO: {stats.kruskal(*focal_df.loc[:, pd.IndexSlice['AO', expts]].values.T.tolist())}\")\n",
    "print(f\"Focal KD: {stats.kruskal(*focal_df.loc[:, pd.IndexSlice['KD', expts]].values.T.tolist())}\")\n",
    "print(f\"Texture: {stats.kruskal(*texture_df.loc[:, expts].values.T.tolist())}\")\n",
    "print(f\"Focal AO deep vs shallow: {stats.mannwhitneyu(focal_df.loc[:, pd.IndexSlice['AO', 'deep_ce_vq0']], focal_df.loc[:, pd.IndexSlice['AO', 'shallow_ce_vq0']])}\")\n",
    "print(f\"Focal AO deep vs multi: {stats.mannwhitneyu(focal_df.loc[:, pd.IndexSlice['AO', 'deep_ce_vq0']], focal_df.loc[:, pd.IndexSlice['AO', 'multi_ce_vq0']])}\")\n",
    "print(f\"Focal AO shallow vs multi: {stats.mannwhitneyu(focal_df.loc[:, pd.IndexSlice['AO', 'shallow_ce_vq0']], focal_df.loc[:, pd.IndexSlice['AO', 'multi_ce_vq0']])}\")"
   ]
  },
  {
   "cell_type": "code",
   "execution_count": 47,
   "metadata": {},
   "outputs": [
    {
     "name": "stdout",
     "output_type": "stream",
     "text": [
      "Alpha = 0.004166666666666667\n",
      "Global L1: KruskalResult(statistic=0.3656930300627437, pvalue=0.9472346631194354)\n",
      "Focal AO: KruskalResult(statistic=26.78913348374897, pvalue=6.518102159091851e-06)\n",
      "Focal KD: KruskalResult(statistic=6.382645283248962, pvalue=0.09440737223757584)\n",
      "Texture: KruskalResult(statistic=19.225379596316827, pvalue=0.00024557467948000875)\n",
      "Multi\n",
      "Focal AO base vs vq-ce: MannwhitneyuResult(statistic=271.0, pvalue=0.8951305559105456)\n",
      "Focal AO base vs jvq-ce: MannwhitneyuResult(statistic=202.0, pvalue=0.1731697381246956)\n",
      "Focal AO base vs jvq-sr: MannwhitneyuResult(statistic=65.0, pvalue=1.2318860354108018e-05)\n",
      "Focal AO vq-ce vs jvq-ce: MannwhitneyuResult(statistic=197.0, pvalue=0.14103840489970726)\n",
      "Focal AO vq-ce vs jvq-sr: MannwhitneyuResult(statistic=69.0, pvalue=1.835709957208419e-05)\n",
      "Focal AO jvq-ce vs jvq-sr: MannwhitneyuResult(statistic=111.0, pvalue=0.00077580834926157)\n",
      "Texture\n",
      "Texture base vs vq-ce: MannwhitneyuResult(statistic=195.0, pvalue=0.12955135290440883)\n",
      "Texture base vs jvq-ce: MannwhitneyuResult(statistic=159.0, pvalue=0.021067982549374916)\n",
      "Texture base vs jvq-sr: MannwhitneyuResult(statistic=110.0, pvalue=0.0007163239988626494)\n",
      "Texture vq-ce vs jvq-ce: MannwhitneyuResult(statistic=196.0, pvalue=0.1352006403120597)\n",
      "Texture vq-ce vs jvq-sr: MannwhitneyuResult(statistic=125.0, pvalue=0.0022602586975855104)\n",
      "Texture jvq-ce vs jvq-sr: MannwhitneyuResult(statistic=127.0, pvalue=0.0026143893037116677)\n"
     ]
    }
   ],
   "source": [
    "print(f\"Alpha = {0.05 / 12}\")\n",
    "# expts = [\"deep_ce_vq0\", \"deep_ce_vq1\", \"deep_jo_vq512\", \"deep_jo_vq64\"]\n",
    "# expts = [\"shallow_ce_vq0\", \"shallow_ce_vq512\", \"shallow_jo_vq256\", \"shallow_jo_vq8\"]\n",
    "expts = [\"multi_ce_vq0\", \"multi_ce_vq128-128-256-512-512\", \"multi_jo_vq128-128-512-512-1024\", \"multi_jo_vq128-64-256-32-512\"]\n",
    "\n",
    "print(f\"Global L1: {stats.kruskal(*global_df.loc[:, pd.IndexSlice['L1', expts]].values.T.tolist())}\")\n",
    "print(f\"Focal AO: {stats.kruskal(*focal_df.loc[:, pd.IndexSlice['AO', expts]].values.T.tolist())}\")\n",
    "print(f\"Focal KD: {stats.kruskal(*focal_df.loc[:, pd.IndexSlice['KD', expts]].values.T.tolist())}\")\n",
    "print(f\"Texture: {stats.kruskal(*texture_df.loc[:, expts].values.T.tolist())}\")\n",
    "\n",
    "print(\"Multi\")\n",
    "print(f\"Focal AO base vs vq-ce: {stats.mannwhitneyu(focal_df.loc[:, pd.IndexSlice['AO', 'multi_ce_vq0']], focal_df.loc[:, pd.IndexSlice['AO', 'multi_ce_vq128-128-256-512-512']])}\")\n",
    "print(f\"Focal AO base vs jvq-ce: {stats.mannwhitneyu(focal_df.loc[:, pd.IndexSlice['AO', 'multi_ce_vq0']], focal_df.loc[:, pd.IndexSlice['AO', 'multi_jo_vq128-128-512-512-1024']])}\")\n",
    "print(f\"Focal AO base vs jvq-sr: {stats.mannwhitneyu(focal_df.loc[:, pd.IndexSlice['AO', 'multi_ce_vq0']], focal_df.loc[:, pd.IndexSlice['AO', 'multi_jo_vq128-64-256-32-512']])}\")\n",
    "print(f\"Focal AO vq-ce vs jvq-ce: {stats.mannwhitneyu(focal_df.loc[:, pd.IndexSlice['AO', 'multi_ce_vq128-128-256-512-512']], focal_df.loc[:, pd.IndexSlice['AO', 'multi_jo_vq128-128-512-512-1024']])}\")\n",
    "print(f\"Focal AO vq-ce vs jvq-sr: {stats.mannwhitneyu(focal_df.loc[:, pd.IndexSlice['AO', 'multi_ce_vq128-128-256-512-512']], focal_df.loc[:, pd.IndexSlice['AO', 'multi_jo_vq128-64-256-32-512']])}\")\n",
    "print(f\"Focal AO jvq-ce vs jvq-sr: {stats.mannwhitneyu(focal_df.loc[:, pd.IndexSlice['AO', 'multi_jo_vq128-128-512-512-1024']], focal_df.loc[:, pd.IndexSlice['AO', 'multi_jo_vq128-64-256-32-512']])}\")\n",
    "\n",
    "print(\"Texture\")\n",
    "print(f\"Texture base vs vq-ce: {stats.mannwhitneyu(texture_df.loc[:, 'multi_ce_vq0'], texture_df.loc[:, 'multi_ce_vq128-128-256-512-512'])}\")\n",
    "print(f\"Texture base vs jvq-ce: {stats.mannwhitneyu(texture_df.loc[:, 'multi_ce_vq0'], texture_df.loc[:, 'multi_jo_vq128-128-512-512-1024'])}\")\n",
    "print(f\"Texture base vs jvq-sr: {stats.mannwhitneyu(texture_df.loc[:, 'multi_ce_vq0'], texture_df.loc[:, 'multi_jo_vq128-64-256-32-512'])}\")\n",
    "print(f\"Texture vq-ce vs jvq-ce: {stats.mannwhitneyu(texture_df.loc[:, 'multi_ce_vq128-128-256-512-512'], texture_df.loc[:, 'multi_jo_vq128-128-512-512-1024'])}\")\n",
    "print(f\"Texture vq-ce vs jvq-sr: {stats.mannwhitneyu(texture_df.loc[:, 'multi_ce_vq128-128-256-512-512'], texture_df.loc[:, 'multi_jo_vq128-64-256-32-512'])}\")\n",
    "print(f\"Texture jvq-ce vs jvq-sr: {stats.mannwhitneyu(texture_df.loc[:, 'multi_jo_vq128-128-512-512-1024'], texture_df.loc[:, 'multi_jo_vq128-64-256-32-512'])}\")"
   ]
  }
 ],
 "metadata": {
  "kernelspec": {
   "display_name": "contrast",
   "language": "python",
   "name": "python3"
  },
  "language_info": {
   "codemirror_mode": {
    "name": "ipython",
    "version": 3
   },
   "file_extension": ".py",
   "mimetype": "text/x-python",
   "name": "python",
   "nbconvert_exporter": "python",
   "pygments_lexer": "ipython3",
   "version": "3.10.6"
  },
  "orig_nbformat": 4
 },
 "nbformat": 4,
 "nbformat_minor": 2
}
