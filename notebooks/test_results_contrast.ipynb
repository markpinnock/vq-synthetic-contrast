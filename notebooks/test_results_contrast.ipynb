{
 "cells": [
  {
   "cell_type": "code",
   "execution_count": null,
   "metadata": {},
   "outputs": [],
   "source": [
    "import matplotlib.pyplot as plt\n",
    "import numpy as np\n",
    "import pandas as pd\n",
    "import scipy.stats as stats"
   ]
  },
  {
   "cell_type": "code",
   "execution_count": null,
   "metadata": {},
   "outputs": [],
   "source": [
    "def load_csvs(folder):\n",
    "    data_path = f\"C:\\\\path\\\\to\\\\data\\\\{folder}\"\n",
    "    focal_L1 = pd.read_csv(f\"{data_path}\\\\contrast_test_focal_L1.csv\", index_col=0, header=[0, 1])\n",
    "    global_L1 = pd.read_csv(f\"{data_path}\\\\contrast_test_global.csv\", index_col=0, header=[0, 1])\n",
    "    textures = pd.read_csv(f\"{data_path}\\\\contrast_test_texture.csv\", index_col=0)\n",
    "\n",
    "    def _change_expt_name(expt):\n",
    "        expt = folder.replace(\"_nores\", \"\") + '_' +  expt\n",
    "        return expt\n",
    "\n",
    "    focal_L1.columns = pd.MultiIndex.from_tuples([(c[0], _change_expt_name(c[1])) for c in focal_L1.columns])\n",
    "    global_L1.columns = pd.MultiIndex.from_tuples([(c[0], _change_expt_name(c[1])) for c in global_L1.columns])\n",
    "    textures.columns = [_change_expt_name(c) for c in textures.columns]\n",
    "\n",
    "    return focal_L1, global_L1, textures"
   ]
  },
  {
   "cell_type": "code",
   "execution_count": null,
   "metadata": {},
   "outputs": [],
   "source": [
    "def merge_kidney_rois(df):\n",
    "    right_kidney = df[\"RK\"]\n",
    "    no_left_kidney = df[\"LK\"].isna().any(axis=1)\n",
    "    right_kidney.loc[~no_left_kidney] = (right_kidney.loc[~no_left_kidney] + df.loc[~no_left_kidney, \"LK\"]) / 2\n",
    "    right_kidney.columns = pd.MultiIndex.from_product([[\"KD\"], right_kidney.columns])\n",
    "    df = pd.concat([df, right_kidney], axis=1)\n",
    "    df.drop([\"RK\", \"LK\", \"VC\"], axis=1, inplace=True)\n",
    "    return df"
   ]
  },
  {
   "cell_type": "code",
   "execution_count": null,
   "metadata": {},
   "outputs": [],
   "source": [
    "focal_deep, global_deep, texture_deep = load_csvs(\"deep\")\n",
    "focal_deep = merge_kidney_rois(focal_deep)\n",
    "\n",
    "focal_shallow, global_shallow, texture_shallow = load_csvs(\"shallow\")\n",
    "focal_shallow = merge_kidney_rois(focal_shallow)\n",
    "\n",
    "focal_multi, global_multi, texture_multi = load_csvs(\"multi\")\n",
    "focal_multi = merge_kidney_rois(focal_multi)\n",
    "\n",
    "focal_deep_nores, global_deep_nores, texture_deep_nores = load_csvs(\"deep_nores\")\n",
    "focal_deep_nores = merge_kidney_rois(focal_deep_nores)\n",
    "\n",
    "focal_shallow_nores, global_shallow_nores, texture_shallow_nores = load_csvs(\"shallow_nores\")\n",
    "focal_shallow_nores = merge_kidney_rois(focal_shallow_nores)\n",
    "\n",
    "focal_multi_nores, global_multi_nores, texture_multi_nores = load_csvs(\"multi_nores\")\n",
    "focal_multi_nores = merge_kidney_rois(focal_multi_nores)"
   ]
  },
  {
   "cell_type": "code",
   "execution_count": null,
   "metadata": {},
   "outputs": [],
   "source": [
    "global_df = pd.concat([global_deep, global_shallow, global_multi], axis=1)\n",
    "focal_df = pd.concat([focal_deep, focal_shallow, focal_multi], axis=1)\n",
    "texture_df = pd.concat([texture_deep, texture_shallow, texture_multi], axis=1)\n",
    "texture_df.drop(labels=[\"shallow_NCE\", \"shallow_CE\", \"multi_NCE\", \"multi_CE\"], axis=1, inplace=True)\n",
    "texture_df.rename({\"deep_NCE\": \"NCE\", \"deep_CE\": \"CE\"}, axis=1, inplace=True)\n",
    "\n",
    "global_nores_df = pd.concat([global_deep_nores, global_shallow_nores, global_multi_nores], axis=1)\n",
    "focal_nores_df = pd.concat([focal_deep_nores, focal_shallow_nores, focal_multi_nores], axis=1)\n",
    "texture_nores_df = pd.concat([texture_deep_nores, texture_shallow_nores, texture_multi_nores], axis=1)\n",
    "texture_nores_df.drop(labels=[\"shallow_NCE\", \"shallow_CE\", \"multi_NCE\", \"multi_CE\"], axis=1, inplace=True)\n",
    "texture_nores_df.rename({\"deep_NCE\": \"NCE\", \"deep_CE\": \"CE\"}, axis=1, inplace=True)"
   ]
  },
  {
   "cell_type": "code",
   "execution_count": null,
   "metadata": {},
   "outputs": [],
   "source": [
    "# expts = [\"deep_ce_vq0\", \"shallow_ce_vq0\", \"multi_ce_vq0\"]\n",
    "expts = [\"deep_ce_vq0\", \"deep_ce_vq1\", \"deep_jo_vq512\", \"deep_jo_vq64\"]\n",
    "# expts = [\"shallow_ce_vq0\", \"shallow_ce_vq512\", \"shallow_jo_vq256\", \"shallow_jo_vq8\"]\n",
    "# expts = [\"multi_ce_vq0\", \"multi_ce_vq128-128-256-512-512\", \"multi_jo_vq128-128-512-512-1024\", \"multi_jo_vq128-64-256-32-512\"]\n",
    "\n",
    "global_df.loc[:, pd.IndexSlice[[\"MSE\", \"pSNR\", \"SSIM\"], expts]].quantile([0.05, 0.5, 0.95])\n",
    "# focal_df.loc[:, pd.IndexSlice[\"AO\", expts]].quantile([0.05, 0.5, 0.95])\n",
    "# texture_df.loc[:, [\"NCE\", \"CE\"] + expts].quantile([0.05, 0.5, 0.95])"
   ]
  },
  {
   "cell_type": "code",
   "execution_count": null,
   "metadata": {},
   "outputs": [],
   "source": [
    "plt.figure(figsize=(18, 18))\n",
    "plt.subplot(3, 1, 1)\n",
    "plt.boxplot(global_df[\"MSE\"])\n",
    "plt.xticks(ticks=np.arange(1, global_df[\"MSE\"].shape[1] + 1), labels=global_df[\"MSE\"].columns, rotation=\"vertical\")\n",
    "plt.subplot(3, 1, 2)\n",
    "plt.boxplot(global_df[\"pSNR\"])\n",
    "plt.xticks(ticks=np.arange(1, global_df[\"pSNR\"].shape[1] + 1), labels=global_df[\"pSNR\"].columns, rotation=\"vertical\")\n",
    "plt.subplot(3, 1, 3)\n",
    "plt.boxplot(global_df[\"SSIM\"])\n",
    "plt.xticks(ticks=np.arange(1, global_df[\"SSIM\"].shape[1] + 1), labels=global_df[\"SSIM\"].columns, rotation=\"vertical\")\n",
    "plt.tight_layout()\n",
    "plt.show()"
   ]
  },
  {
   "cell_type": "code",
   "execution_count": null,
   "metadata": {},
   "outputs": [],
   "source": [
    "print(f\"Alpha = {0.05 / 6}\")\n",
    "expts = [\"deep_ce_vq0\", \"shallow_ce_vq0\", \"multi_ce_vq0\"]\n",
    "# expts = [\"deep_ce_vq0\", \"deep_ce_vq1\", \"deep_jo_vq512\", \"deep_jo_vq64\"]\n",
    "# expts = [\"shallow_ce_vq0\", \"shallow_ce_vq512\", \"shallow_jo_vq256\", \"shallow_jo_vq8\"]\n",
    "# expts = [\"multi_ce_vq0\", \"multi_ce_vq128-128-256-512-512\", \"multi_jo_vq128-128-512-512-1024\", \"multi_jo_vq128-64-256-32-512\"]\n",
    "\n",
    "print(f\"MSE: {stats.kruskal(*pd.concat([global_df, global_nores_df], axis=1).loc[:, pd.IndexSlice['MSE', expts]].values.T.tolist())}\")\n",
    "print(f\"pSNR: {stats.kruskal(*pd.concat([global_df, global_nores_df], axis=1).loc[:, pd.IndexSlice['pSNR', expts]].values.T.tolist())}\")\n",
    "print(f\"SSIM: {stats.kruskal(*pd.concat([global_df, global_nores_df], axis=1).loc[:, pd.IndexSlice['SSIM', expts]].values.T.tolist())}\")"
   ]
  },
  {
   "cell_type": "code",
   "execution_count": null,
   "metadata": {},
   "outputs": [],
   "source": [
    "plt.figure(figsize=(18, 18))\n",
    "plt.subplot(3, 1, 1)\n",
    "plt.boxplot(global_df[\"L1\"])\n",
    "plt.xticks(ticks=np.arange(1, global_df[\"L1\"].shape[1] + 1), labels=global_df[\"L1\"].columns, rotation=\"vertical\")\n",
    "plt.subplot(3, 1, 2)\n",
    "plt.boxplot(focal_df[\"AO\"])\n",
    "plt.xticks(ticks=np.arange(1, focal_df[\"AO\"].shape[1] + 1), labels=focal_df[\"AO\"].columns, rotation=\"vertical\")\n",
    "plt.subplot(3, 1, 3)\n",
    "plt.boxplot(focal_df[\"KD\"])\n",
    "plt.xticks(ticks=np.arange(1, focal_df[\"KD\"].shape[1] + 1), labels=focal_df[\"KD\"].columns, rotation=\"vertical\")\n",
    "plt.tight_layout()\n",
    "plt.show()"
   ]
  },
  {
   "cell_type": "code",
   "execution_count": null,
   "metadata": {},
   "outputs": [],
   "source": [
    "print(\"Baselines\")\n",
    "print(f\"Alpha = {0.05 / 15}\")\n",
    "expts = [\"deep_ce_vq0\", \"shallow_ce_vq0\", \"multi_ce_vq0\"]\n",
    "\n",
    "print(f\"Global L1: {stats.kruskal(*pd.concat([global_df, global_nores_df], axis=1).loc[:, pd.IndexSlice['L1', expts]].values.T.tolist())}\")\n",
    "print(f\"Focal AO: {stats.kruskal(*pd.concat([focal_df, focal_nores_df], axis=1).loc[:, pd.IndexSlice['AO', expts]].values.T.tolist())}\")\n",
    "print(f\"Focal KD: {stats.kruskal(*pd.concat([focal_df, focal_nores_df], axis=1).loc[:, pd.IndexSlice['KD', expts]].values.T.tolist())}\")\n",
    "print(f\"Texture: {stats.kruskal(*pd.concat([texture_df, texture_nores_df], axis=1).loc[:, expts].values.T.tolist())}\")\n",
    "\n",
    "print(f\"Focal AO deep resid vs shallow resid: {stats.mannwhitneyu(focal_df.loc[:, pd.IndexSlice['AO', 'deep_ce_vq0']], focal_df.loc[:, pd.IndexSlice['AO', 'shallow_ce_vq0']])}\")\n",
    "print(f\"Focal AO deep resid vs multi resid: {stats.mannwhitneyu(focal_df.loc[:, pd.IndexSlice['AO', 'deep_ce_vq0']], focal_df.loc[:, pd.IndexSlice['AO', 'multi_ce_vq0']])}\")\n",
    "print(f\"Focal AO deep resid vs deep no resid: {stats.mannwhitneyu(focal_df.loc[:, pd.IndexSlice['AO', 'deep_ce_vq0']], focal_nores_df.loc[:, pd.IndexSlice['AO', 'deep_ce_vq0']])}\")\n",
    "print(f\"Focal AO deep resid vs shallow no resid: {stats.mannwhitneyu(focal_df.loc[:, pd.IndexSlice['AO', 'deep_ce_vq0']], focal_nores_df.loc[:, pd.IndexSlice['AO', 'shallow_ce_vq0']])}\")\n",
    "print(f\"Focal AO deep resid vs multi no resid: {stats.mannwhitneyu(focal_df.loc[:, pd.IndexSlice['AO', 'deep_ce_vq0']], focal_nores_df.loc[:, pd.IndexSlice['AO', 'multi_ce_vq0']])}\")\n",
    "print(f\"Focal AO shallow resid vs multi resid: {stats.mannwhitneyu(focal_df.loc[:, pd.IndexSlice['AO', 'shallow_ce_vq0']], focal_df.loc[:, pd.IndexSlice['AO', 'multi_ce_vq0']])}\")\n",
    "print(f\"Focal AO shallow resid vs deep no resid: {stats.mannwhitneyu(focal_df.loc[:, pd.IndexSlice['AO', 'shallow_ce_vq0']], focal_nores_df.loc[:, pd.IndexSlice['AO', 'deep_ce_vq0']])}\")\n",
    "print(f\"Focal AO shallow resid vs shallow no resid: {stats.mannwhitneyu(focal_df.loc[:, pd.IndexSlice['AO', 'shallow_ce_vq0']], focal_nores_df.loc[:, pd.IndexSlice['AO', 'shallow_ce_vq0']])}\")\n",
    "print(f\"Focal AO shallow resid vs multi no resid: {stats.mannwhitneyu(focal_df.loc[:, pd.IndexSlice['AO', 'shallow_ce_vq0']], focal_nores_df.loc[:, pd.IndexSlice['AO', 'multi_ce_vq0']])}\")\n",
    "print(f\"Focal AO multi resid vs deep no resid: {stats.mannwhitneyu(focal_df.loc[:, pd.IndexSlice['AO', 'multi_ce_vq0']], focal_nores_df.loc[:, pd.IndexSlice['AO', 'deep_ce_vq0']])}\")\n",
    "print(f\"Focal AO multi resid vs shallow no resid: {stats.mannwhitneyu(focal_df.loc[:, pd.IndexSlice['AO', 'multi_ce_vq0']], focal_nores_df.loc[:, pd.IndexSlice['AO', 'shallow_ce_vq0']])}\")\n",
    "print(f\"Focal AO multi resid vs multi no resid: {stats.mannwhitneyu(focal_df.loc[:, pd.IndexSlice['AO', 'multi_ce_vq0']], focal_nores_df.loc[:, pd.IndexSlice['AO', 'multi_ce_vq0']])}\")\n",
    "print(f\"Focal AO deep no resid vs shallow no resid: {stats.mannwhitneyu(focal_nores_df.loc[:, pd.IndexSlice['AO', 'deep_ce_vq0']], focal_nores_df.loc[:, pd.IndexSlice['AO', 'shallow_ce_vq0']])}\")\n",
    "print(f\"Focal AO deep no resid vs multi no resid: {stats.mannwhitneyu(focal_nores_df.loc[:, pd.IndexSlice['AO', 'deep_ce_vq0']], focal_nores_df.loc[:, pd.IndexSlice['AO', 'multi_ce_vq0']])}\")\n",
    "print(f\"Focal AO shallow no resid vs multi no resid: {stats.mannwhitneyu(focal_nores_df.loc[:, pd.IndexSlice['AO', 'shallow_ce_vq0']], focal_nores_df.loc[:, pd.IndexSlice['AO', 'multi_ce_vq0']])}\")\n",
    "\n",
    "print(f\"Focal AO deep resid vs shallow resid: {stats.mannwhitneyu(texture_df.loc[:, 'deep_ce_vq0'], texture_df.loc[:, 'shallow_ce_vq0'])}\")\n",
    "print(f\"Focal AO deep resid vs multi resid: {stats.mannwhitneyu(texture_df.loc[:, 'deep_ce_vq0'], texture_df.loc[:, 'multi_ce_vq0'])}\")\n",
    "print(f\"Focal AO deep resid vs deep no resid: {stats.mannwhitneyu(texture_df.loc[:, 'deep_ce_vq0'], texture_nores_df.loc[:, 'deep_ce_vq0'])}\")\n",
    "print(f\"Focal AO deep resid vs shallow no resid: {stats.mannwhitneyu(texture_df.loc[:, 'deep_ce_vq0'], texture_nores_df.loc[:, 'shallow_ce_vq0'])}\")\n",
    "print(f\"Focal AO deep resid vs multi no resid: {stats.mannwhitneyu(texture_df.loc[:, 'deep_ce_vq0'], texture_nores_df.loc[:, 'multi_ce_vq0'])}\")\n",
    "print(f\"Focal AO shallow resid vs multi resid: {stats.mannwhitneyu(texture_df.loc[:, 'shallow_ce_vq0'], texture_df.loc[:, 'multi_ce_vq0'])}\")\n",
    "print(f\"Focal AO shallow resid vs deep no resid: {stats.mannwhitneyu(texture_df.loc[:, 'shallow_ce_vq0'], texture_nores_df.loc[:, 'deep_ce_vq0'])}\")\n",
    "print(f\"Focal AO shallow resid vs shallow no resid: {stats.mannwhitneyu(texture_df.loc[:, 'shallow_ce_vq0'], texture_nores_df.loc[:, 'shallow_ce_vq0'])}\")\n",
    "print(f\"Focal AO shallow resid vs multi no resid: {stats.mannwhitneyu(texture_df.loc[:, 'shallow_ce_vq0'], texture_nores_df.loc[:, 'multi_ce_vq0'])}\")\n",
    "print(f\"Focal AO multi resid vs deep no resid: {stats.mannwhitneyu(texture_df.loc[:, 'multi_ce_vq0'], texture_nores_df.loc[:, 'deep_ce_vq0'])}\")\n",
    "print(f\"Focal AO multi resid vs shallow no resid: {stats.mannwhitneyu(texture_df.loc[:, 'multi_ce_vq0'], texture_nores_df.loc[:, 'shallow_ce_vq0'])}\")\n",
    "print(f\"Focal AO multi resid vs multi no resid: {stats.mannwhitneyu(texture_df.loc[:, 'multi_ce_vq0'], texture_nores_df.loc[:, 'multi_ce_vq0'])}\")\n",
    "print(f\"Focal AO deep no resid vs shallow no resid: {stats.mannwhitneyu(texture_nores_df.loc[:, 'deep_ce_vq0'], texture_nores_df.loc[:, 'shallow_ce_vq0'])}\")\n",
    "print(f\"Focal AO deep no resid vs multi no resid: {stats.mannwhitneyu(texture_nores_df.loc[:, 'deep_ce_vq0'], texture_nores_df.loc[:, 'multi_ce_vq0'])}\")\n",
    "print(f\"Focal AO shallow no resid vs multi no resid: {stats.mannwhitneyu(texture_nores_df.loc[:, 'shallow_ce_vq0'], texture_nores_df.loc[:, 'multi_ce_vq0'])}\")"
   ]
  },
  {
   "cell_type": "code",
   "execution_count": null,
   "metadata": {},
   "outputs": [],
   "source": [
    "print(f\"Alpha = {0.05 / 12}\")\n",
    "# expts = [\"deep_ce_vq0\", \"deep_ce_vq1\", \"deep_jo_vq512\", \"deep_jo_vq64\"]\n",
    "# expts = [\"shallow_ce_vq0\", \"shallow_ce_vq512\", \"shallow_jo_vq256\", \"shallow_jo_vq8\"]\n",
    "expts = [\"multi_ce_vq0\", \"multi_ce_vq128-128-256-512-512\", \"multi_jo_vq128-128-512-512-1024\", \"multi_jo_vq128-64-256-32-512\"]\n",
    "\n",
    "print(f\"Global L1: {stats.kruskal(*global_df.loc[:, pd.IndexSlice['L1', expts]].values.T.tolist())}\")\n",
    "print(f\"Focal AO: {stats.kruskal(*focal_df.loc[:, pd.IndexSlice['AO', expts]].values.T.tolist())}\")\n",
    "print(f\"Focal KD: {stats.kruskal(*focal_df.loc[:, pd.IndexSlice['KD', expts]].values.T.tolist())}\")\n",
    "print(f\"Texture: {stats.kruskal(*texture_df.loc[:, expts].values.T.tolist())}\")\n",
    "\n",
    "print(\"Multi\")\n",
    "print(f\"Focal AO base vs vq-ce: {stats.mannwhitneyu(focal_df.loc[:, pd.IndexSlice['AO', 'multi_ce_vq0']], focal_df.loc[:, pd.IndexSlice['AO', 'multi_ce_vq128-128-256-512-512']])}\")\n",
    "print(f\"Focal AO base vs jvq-ce: {stats.mannwhitneyu(focal_df.loc[:, pd.IndexSlice['AO', 'multi_ce_vq0']], focal_df.loc[:, pd.IndexSlice['AO', 'multi_jo_vq128-128-512-512-1024']])}\")\n",
    "print(f\"Focal AO base vs jvq-sr: {stats.mannwhitneyu(focal_df.loc[:, pd.IndexSlice['AO', 'multi_ce_vq0']], focal_df.loc[:, pd.IndexSlice['AO', 'multi_jo_vq128-64-256-32-512']])}\")\n",
    "print(f\"Focal AO vq-ce vs jvq-ce: {stats.mannwhitneyu(focal_df.loc[:, pd.IndexSlice['AO', 'multi_ce_vq128-128-256-512-512']], focal_df.loc[:, pd.IndexSlice['AO', 'multi_jo_vq128-128-512-512-1024']])}\")\n",
    "print(f\"Focal AO vq-ce vs jvq-sr: {stats.mannwhitneyu(focal_df.loc[:, pd.IndexSlice['AO', 'multi_ce_vq128-128-256-512-512']], focal_df.loc[:, pd.IndexSlice['AO', 'multi_jo_vq128-64-256-32-512']])}\")\n",
    "print(f\"Focal AO jvq-ce vs jvq-sr: {stats.mannwhitneyu(focal_df.loc[:, pd.IndexSlice['AO', 'multi_jo_vq128-128-512-512-1024']], focal_df.loc[:, pd.IndexSlice['AO', 'multi_jo_vq128-64-256-32-512']])}\")\n",
    "\n",
    "print(\"Texture\")\n",
    "print(f\"Texture base vs vq-ce: {stats.mannwhitneyu(texture_df.loc[:, 'multi_ce_vq0'], texture_df.loc[:, 'multi_ce_vq128-128-256-512-512'])}\")\n",
    "print(f\"Texture base vs jvq-ce: {stats.mannwhitneyu(texture_df.loc[:, 'multi_ce_vq0'], texture_df.loc[:, 'multi_jo_vq128-128-512-512-1024'])}\")\n",
    "print(f\"Texture base vs jvq-sr: {stats.mannwhitneyu(texture_df.loc[:, 'multi_ce_vq0'], texture_df.loc[:, 'multi_jo_vq128-64-256-32-512'])}\")\n",
    "print(f\"Texture vq-ce vs jvq-ce: {stats.mannwhitneyu(texture_df.loc[:, 'multi_ce_vq128-128-256-512-512'], texture_df.loc[:, 'multi_jo_vq128-128-512-512-1024'])}\")\n",
    "print(f\"Texture vq-ce vs jvq-sr: {stats.mannwhitneyu(texture_df.loc[:, 'multi_ce_vq128-128-256-512-512'], texture_df.loc[:, 'multi_jo_vq128-64-256-32-512'])}\")\n",
    "print(f\"Texture jvq-ce vs jvq-sr: {stats.mannwhitneyu(texture_df.loc[:, 'multi_jo_vq128-128-512-512-1024'], texture_df.loc[:, 'multi_jo_vq128-64-256-32-512'])}\")"
   ]
  }
 ],
 "metadata": {
  "kernelspec": {
   "display_name": "Python 3.10.13 ('contrast')",
   "language": "python",
   "name": "python3"
  },
  "language_info": {
   "codemirror_mode": {
    "name": "ipython",
    "version": 3
   },
   "file_extension": ".py",
   "mimetype": "text/x-python",
   "name": "python",
   "nbconvert_exporter": "python",
   "pygments_lexer": "ipython3",
   "version": "3.10.13"
  },
  "orig_nbformat": 4,
  "vscode": {
   "interpreter": {
    "hash": "43d1997fd4e4cc40c3d169dc514034a02133f502e7743f11710d9c890ab32c7d"
   }
  }
 },
 "nbformat": 4,
 "nbformat_minor": 2
}
